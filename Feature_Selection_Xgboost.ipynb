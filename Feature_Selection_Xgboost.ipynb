{
  "nbformat": 4,
  "nbformat_minor": 0,
  "metadata": {
    "colab": {
      "name": "Feature_Selection_Xgboost.ipynb",
      "provenance": [],
      "collapsed_sections": [],
      "machine_shape": "hm"
    },
    "kernelspec": {
      "name": "python3",
      "display_name": "Python 3"
    }
  },
  "cells": [
    {
      "cell_type": "code",
      "metadata": {
        "id": "6KNaPutmoQG-",
        "colab_type": "code",
        "colab": {}
      },
      "source": [
        "import numpy as np \n",
        "import pandas as pd \n",
        "import numpy as np\n",
        "import matplotlib.pyplot as plt\n",
        "import seaborn as sns\n",
        "import pandas as pd\n",
        "import xgboost as xgb\n",
        "from scipy.stats import uniform,randint\n",
        "import numpy as np\n",
        "import pandas as pd\n",
        "import matplotlib.pyplot as plt\n",
        "from matplotlib import cm\n",
        "from imblearn.over_sampling import SMOTE\n",
        "from sklearn.metrics import classification_report, confusion_matrix\n",
        "from sklearn.metrics import roc_auc_score\n",
        "from sklearn.model_selection import GridSearchCV,train_test_split,RandomizedSearchCV\n",
        "from sklearn.ensemble import RandomForestClassifier\n",
        "from xgboost import XGBClassifier\n",
        "from imblearn.under_sampling import ClusterCentroids, TomekLinks,RandomUnderSampler\n",
        "from sklearn.decomposition import PCA\n",
        "from sklearn.preprocessing import normalize\n",
        "from sklearn.feature_selection import SelectPercentile\n",
        "from sklearn.feature_selection import f_classif,chi2\n",
        "from sklearn.preprocessing import Binarizer, scale\n",
        "from sklearn.metrics import roc_auc_score\n",
        "from yellowbrick.classifier import ROCAUC\n",
        "from yellowbrick.model_selection import LearningCurve\n",
        "from yellowbrick.classifier import ConfusionMatrix\n",
        "from yellowbrick.classifier import PrecisionRecallCurve\n",
        "\n",
        "import random\n",
        "random.seed(1301) "
      ],
      "execution_count": 0,
      "outputs": []
    },
    {
      "cell_type": "code",
      "metadata": {
        "id": "UsgjbTATqgxO",
        "colab_type": "code",
        "outputId": "7c20ba2c-e158-449d-ca06-142ada4cddd7",
        "colab": {
          "base_uri": "https://localhost:8080/",
          "height": 51
        }
      },
      "source": [
        "from google.colab import drive\n",
        "drive.mount('/gdrive')\n",
        "%cd /gdrive"
      ],
      "execution_count": 0,
      "outputs": [
        {
          "output_type": "stream",
          "text": [
            "Drive already mounted at /gdrive; to attempt to forcibly remount, call drive.mount(\"/gdrive\", force_remount=True).\n",
            "/gdrive\n"
          ],
          "name": "stdout"
        }
      ]
    },
    {
      "cell_type": "code",
      "metadata": {
        "id": "xVCAiZaCqold",
        "colab_type": "code",
        "colab": {}
      },
      "source": [
        "path = r'/gdrive/My Drive/KAEMH/newyear_newyou/dataset_allfeatures.csv'\n",
        "train_data=pd.read_csv(path,index_col=0)"
      ],
      "execution_count": 0,
      "outputs": []
    },
    {
      "cell_type": "code",
      "metadata": {
        "id": "J1dEbd9InZYZ",
        "colab_type": "code",
        "colab": {}
      },
      "source": [
        "path = r'/gdrive/My Drive/KAEMH/newyear_newyou/totalenrolls_allfeatures.csv'\n",
        "train_data=pd.read_csv(path,index_col=0)"
      ],
      "execution_count": 0,
      "outputs": []
    },
    {
      "cell_type": "code",
      "metadata": {
        "id": "xGgK2CZ5u_iL",
        "colab_type": "code",
        "outputId": "055a60a9-616a-4e0b-a4c4-39a21f32b94b",
        "colab": {
          "base_uri": "https://localhost:8080/",
          "height": 518
        }
      },
      "source": [
        "dims = (8,8)\n",
        "x=['Did not enroll','Enrolled']\n",
        "fig, ax = plt.subplots(figsize=dims)\n",
        "sns.set_style('white') \n",
        "\n",
        "ax=sns.countplot(ax=ax,data=train_data,x=\"TARGET\",palette=[\"#000000\",\"#8c1D40\"],linewidth=0)\n",
        "ax.get_frame_on()\n",
        "ax.set_ylabel('')\n",
        "\n",
        "#ax.set_xbound(fontsize=20)\n",
        "ax.set_title(\"Target Spread\",fontsize=20)\n",
        "\n",
        "for p in ax.patches:\n",
        "        ax.annotate('{:}'.format(p.get_height()), (p.get_x()+0.1, p.get_height()+200),fontsize=20)\n"
      ],
      "execution_count": 0,
      "outputs": [
        {
          "output_type": "display_data",
          "data": {
            "image/png": "[encoded data removed]",
            "text/plain": [
              "<Figure size 576x576 with 1 Axes>"
            ]
          },
          "metadata": {
            "tags": []
          }
        }
      ]
    },
    {
      "cell_type": "code",
      "metadata": {
        "id": "i8lbzquPM10N",
        "colab_type": "code",
        "colab": {}
      },
      "source": [
        "def display_all(df):\n",
        "\n",
        "    \"\"\"display the datafile at once.\"\"\" \n",
        "    with pd.option_context(\"display.max_rows\",1000):\n",
        "        with pd.option_context(\"display.max_columns\",1000):\n",
        "            display(df)"
      ],
      "execution_count": 0,
      "outputs": []
    },
    {
      "cell_type": "code",
      "metadata": {
        "id": "ewl2fFudqotB",
        "colab_type": "code",
        "colab": {}
      },
      "source": [
        "#preparing the data for train_test_split\n",
        "\n",
        "x=train_data.iloc[:,:-1]\n",
        "y=train_data.iloc[:,-1]"
      ],
      "execution_count": 0,
      "outputs": []
    },
    {
      "cell_type": "code",
      "metadata": {
        "id": "TwJ1R2lPwvvT",
        "colab_type": "code",
        "colab": {}
      },
      "source": [
        "feature_names_10 = ['Record.Type.DescReligious.Organization','Record.Type.DescStudent','Record.Type.DescPersonal.or.Family.Foundation','Record.Type.DescOther.Organization','Record.Type.DescGovernment.Organization','Record.Type.DescFundraising.Consortium','Record.Type.DescFoundation','IQ','Record.Type.DescEstate.of.Thunderbird.Alumus.a','Record.Type.DescEstate.of.Alumnus.a']"
      ],
      "execution_count": 0,
      "outputs": []
    },
    {
      "cell_type": "code",
      "metadata": {
        "id": "4OSTjsFbMUNz",
        "colab_type": "code",
        "colab": {}
      },
      "source": [
        "#applying the normalization with PCA\n",
        "\n",
        "x_normalized = normalize(x, axis=0)\n",
        "pca = PCA(n_components=2)\n",
        "x_pca = pca.fit_transform(x_normalized)\n",
        "x['PCA1'] = x_pca[:,0]\n",
        "x['PCA2'] = x_pca[:,1]"
      ],
      "execution_count": 0,
      "outputs": []
    },
    {
      "cell_type": "code",
      "metadata": {
        "id": "WtwU2hfzFjx-",
        "colab_type": "code",
        "outputId": "c3ab98d0-5f40-4ff7-c901-ced31f9c51ec",
        "colab": {
          "base_uri": "https://localhost:8080/",
          "height": 85
        }
      },
      "source": [
        "eigenvalues=pca.components_\n",
        "eigenvalues"
      ],
      "execution_count": 0,
      "outputs": [
        {
          "output_type": "execute_result",
          "data": {
            "text/plain": [
              "array([[ 0.00255251,  0.00298785,  0.00099214, ..., -0.00014592,\n",
              "         0.00125054,  0.00305247],\n",
              "       [-0.01770597,  0.01406605,  0.00313463, ..., -0.0001386 ,\n",
              "         0.00056761, -0.00134516]])"
            ]
          },
          "metadata": {
            "tags": []
          },
          "execution_count": 18
        }
      ]
    },
    {
      "cell_type": "code",
      "metadata": {
        "id": "ErHcY13DGgss",
        "colab_type": "code",
        "outputId": "c343c4db-b7c2-4973-f1ed-3d67e894d686",
        "colab": {
          "base_uri": "https://localhost:8080/",
          "height": 68
        }
      },
      "source": [
        "N_elements=10\n",
        "\n",
        "PCA1=abs(eigenvalues[:,:])\n",
        "PCA1.sort(axis=0)\n",
        "PCA1=PCA1[::-1]\n",
        "PCA1=PCA1[0:N_elements]\n",
        "PCA1[1][:10]"
      ],
      "execution_count": 0,
      "outputs": [
        {
          "output_type": "execute_result",
          "data": {
            "text/plain": [
              "array([2.55251415e-03, 2.98784784e-03, 9.92140135e-04, 2.23416860e-03,\n",
              "       8.68987991e-07, 5.12489951e-04, 4.63136471e-04, 8.21444539e-03,\n",
              "       5.03875111e-05, 7.68756332e-03])"
            ]
          },
          "metadata": {
            "tags": []
          },
          "execution_count": 19
        }
      ]
    },
    {
      "cell_type": "code",
      "metadata": {
        "id": "iziXfh8gt4EY",
        "colab_type": "code",
        "outputId": "004f0cde-db5d-4966-fcee-9f72ae6e538b",
        "colab": {
          "base_uri": "https://localhost:8080/",
          "height": 85
        }
      },
      "source": [
        "#Accessing eigen values of PCA1 and PCA \n",
        "\n",
        "pc = np.abs(pca.components_[:,:])\n",
        "pc.sort()\n",
        "pc1=pc[0][::-1][:10]\n",
        "pc2=pc[1][::-1][:10]\n",
        "print(pc1)\n",
        "print(pc2)\n"
      ],
      "execution_count": 0,
      "outputs": [
        {
          "output_type": "stream",
          "text": [
            "[0.0957134  0.09565242 0.09561274 0.09560647 0.09558262 0.09558049\n",
            " 0.09557808 0.09557794 0.09557505 0.0955648 ]\n",
            "[0.14368998 0.1433606  0.13985366 0.12965068 0.12931337 0.12836397\n",
            " 0.1263854  0.12475317 0.12364121 0.1224002 ]\n"
          ],
          "name": "stdout"
        }
      ]
    },
    {
      "cell_type": "code",
      "metadata": {
        "id": "i-gPsx3uPAIN",
        "colab_type": "code",
        "outputId": "711f8b3e-546e-45de-a8a5-fccf03763e72",
        "colab": {
          "base_uri": "https://localhost:8080/",
          "height": 51
        }
      },
      "source": [
        "features = np.abs(pca.components_[:,:]).argsort()[::-1]\n",
        "print(features)"
      ],
      "execution_count": 0,
      "outputs": [
        {
          "output_type": "stream",
          "text": [
            "[[ 34  35  33 ... 269 310 284]\n",
            " [ 33  17  20 ... 390 435 440]]\n"
          ],
          "name": "stdout"
        }
      ]
    },
    {
      "cell_type": "code",
      "metadata": {
        "id": "2huHRlqZwhoY",
        "colab_type": "code",
        "colab": {}
      },
      "source": [
        "x.iloc[:,features[1][:10]]  "
      ],
      "execution_count": 0,
      "outputs": []
    },
    {
      "cell_type": "code",
      "metadata": {
        "colab_type": "code",
        "id": "j3LX0HFIO9jS",
        "outputId": "cb04395c-a15a-4f41-dfe7-cc52d74e59ff",
        "colab": {
          "base_uri": "https://localhost:8080/",
          "height": 347
        }
      },
      "source": [
        "#horizontal bar graph for PCA1\n",
        " \n",
        "# Make fake dataset\n",
        "height = [0.09, 0.09, 0.09, 0.09, 0.09, 0.09,0.09,0.09, 0.09,0.09]\n",
        "bars = ('Record.Type.DescReligious.Organization','Record.Type.DescStudent','Record.Type.DescPersonal.or.Family.Foundation','Record.Type.DescOther.Organization','Record.Type.DescGovernment.Organization','Record.Type.DescFundraising.Consortium','Record.Type.DescFoundation','IQ','Record.Type.DescEstate.of.Thunderbird.Alumus.a','Record.Type.DescEstate.of.Alumnus.a')\n",
        "y_pos = np.arange(len(bars))\n",
        " \n",
        "# Create horizontal bars\n",
        "plt.barh(y_pos, height,color='#00A3E0')\n",
        " \n",
        "# Create names on the y-axis\n",
        "plt.yticks(y_pos, bars)\n",
        "\n",
        "ylocs, ylabs = plt.yticks()\n",
        "y= [0.09, 0.09, 0.09, 0.09, 0.09, 0.09,0.09,0.09, 0.09,0.09]\n",
        "\n",
        "#for i, v in enumerate(y):\n",
        "#    ax.text(v + 3, i + .25, str(v), color='blue', fontweight='bold')\n",
        "\n",
        "for i, v in enumerate(y):\n",
        "    plt.text(v , i , str(v), color='blue', fontweight='bold')\n",
        " \n",
        "# Show graphic\n",
        "plt.show()\n"
      ],
      "execution_count": 0,
      "outputs": [
        {
          "output_type": "display_data",
          "data": {
            "image/png": "[encoded data removed]",
            "text/plain": [
              "<Figure size 576x396 with 1 Axes>"
            ]
          },
          "metadata": {
            "tags": []
          }
        }
      ]
    },
    {
      "cell_type": "code",
      "metadata": {
        "id": "m0uEBfdF2qMf",
        "colab_type": "code",
        "outputId": "599ad3a0-87f0-4bbc-df61-5d7b51602192",
        "colab": {
          "base_uri": "https://localhost:8080/",
          "height": 363
        }
      },
      "source": [
        "#horizontal bar graph for PCA1\n",
        " \n",
        "# Make fake dataset\n",
        "height = [0.12,0.12,0.12,0.12,0.12,0.12,0.12,0.13,0.14,0.14]\n",
        "bars = ('Record.Type.DescDonor.Advised.Fund','Record.Type.DescFundraising.Consortium','Record.Type.DescFoundation','Record.Type.DescEstate.of.Thunderbird.Alumus.a','Record.Type.DescAlumnus.a..Non.Degreed',\n",
        "        'Record.Type.DescEstate.of.Alumnus.a','Record.Type.DescASU.Affiliate','Record.Type.DescEstate','Record.Type.DescCorporate.Foundation',' Record.Type.DescPersonal.or.Family.Foundation')\n",
        "bars=bars[::-1]\n",
        "y_pos = np.arange(len(bars))\n",
        " \n",
        "# Create horizontal bars\n",
        "plt.barh(y_pos, height,color='#00A3E0')\n",
        " \n",
        "# Create names on the y-axis\n",
        "plt.yticks(y_pos, bars)\n",
        "plt.title('Contributions of variables to PCA2')\n",
        "\n",
        "ylocs, ylabs = plt.yticks()\n",
        "y= [0.12,0.12,0.12,0.12,0.12,0.12,0.12,0.13,0.14,0.14]\n",
        "\n",
        "#for i, v in enumerate(y):\n",
        "#    ax.text(v + 3, i + .25, str(v), color='blue', fontweight='bold')\n",
        "\n",
        "for i, v in enumerate(y):\n",
        "    plt.text(v , i , str(v), color='black', fontweight='bold')\n",
        " \n",
        "# Show graphic\n",
        "plt.show()\n",
        " "
      ],
      "execution_count": 0,
      "outputs": [
        {
          "output_type": "display_data",
          "data": {
            "image/png": "[encoded data removed]",
            "text/plain": [
              "<Figure size 576x396 with 1 Axes>"
            ]
          },
          "metadata": {
            "tags": []
          }
        }
      ]
    },
    {
      "cell_type": "code",
      "metadata": {
        "id": "MXuxu7D-4onm",
        "colab_type": "code",
        "outputId": "e39611f6-79c4-43da-82eb-9b13c67d29da",
        "colab": {
          "base_uri": "https://localhost:8080/",
          "height": 72
        }
      },
      "source": [
        "def identify_constant_features(dataframe):\n",
        "    count_uniques = dataframe.apply(lambda x: len(x.unique()))\n",
        "    constants = count_uniques[count_uniques == 1].index.tolist()\n",
        "    return constants\n",
        "\n",
        "constant_features_test = set(identify_constant_features(x))\n",
        "\n",
        "print('There were {} constant features in dataset.'.format(len(constant_features_test)))\n",
        "print(constant_features_test)"
      ],
      "execution_count": 0,
      "outputs": [
        {
          "output_type": "stream",
          "text": [
            "There were 17 constant features in dataset.\n",
            "{'Record.Type.DescFoundation', 'Record.Type.DescASU.Affiliate', 'Record.Type.DescStudent', 'Record.Type.DescCorporate.Foundation', 'Record.Type.DescGovernment.Organization', 'Record.Type.DescPersonal.or.Family.Foundation', 'Record.Type.DescEstate.of.Alumnus.a', 'IQ', 'AdmitType', 'Record.Type.DescFundraising.Consortium', 'Record.Type.DescEstate.of.Thunderbird.Alumus.a', 'Record.Type.DescOther.Organization', 'Record.Type.DescDonor.Advised.Fund', 'Record.Type.DescReligious.Organization', 'Record.Type.DescCorporation', 'Record.Type.DescEstate', 'Record.Type.DescAlumnus.a..Non.Degreed'}\n"
          ],
          "name": "stdout"
        }
      ]
    },
    {
      "cell_type": "code",
      "metadata": {
        "id": "gAAwrkSwJq1j",
        "colab_type": "code",
        "outputId": "f2a9d54b-37af-40dd-b916-6ea6f8b74f88",
        "colab": {
          "base_uri": "https://localhost:8080/",
          "height": 107
        }
      },
      "source": [
        "#Scaling the data and preparing for feature selection\n",
        "\n",
        "#p=86 Auc score overall : 0.8612\n",
        "#p=86 Auc score with Undersamplimg : 0.8840\n",
        "#p=75 Auc score with Undersamplimg : 0.8886\n",
        "#p=60  #AUC score with Undersampling : 0.8920\n",
        "#p=70 AUC score with undersampling : 0.8868\n",
        "p=60\n",
        "\n",
        "x_bin = Binarizer().fit_transform(scale(x))\n",
        "selectChi2 = SelectPercentile(chi2, percentile=p).fit(x_bin, y)\n",
        "selectF_classif = SelectPercentile(f_classif, percentile=p).fit(x, y)"
      ],
      "execution_count": 0,
      "outputs": [
        {
          "output_type": "stream",
          "text": [
            "/usr/local/lib/python3.6/dist-packages/sklearn/feature_selection/_univariate_selection.py:114: UserWarning: Features [ 13  15  17  18  19  20  21  22  24  25  26  28  33  34  35 145 619] are constant.\n",
            "  UserWarning)\n",
            "/usr/local/lib/python3.6/dist-packages/sklearn/feature_selection/_univariate_selection.py:115: RuntimeWarning: invalid value encountered in true_divide\n",
            "  f = msb / msw\n"
          ],
          "name": "stderr"
        }
      ]
    },
    {
      "cell_type": "code",
      "metadata": {
        "id": "fU5vNp4qSAh5",
        "colab_type": "code",
        "colab": {}
      },
      "source": [
        "#features selection using chi2\n",
        "\n",
        "chi2_selected = selectChi2.get_support()\n",
        "chi2_selected_features = [ f for i,f in enumerate(x.columns) if chi2_selected[i]]\n",
        "print('Chi2 selected {} features {}.'.format(chi2_selected.sum(),chi2_selected_features))"
      ],
      "execution_count": 0,
      "outputs": []
    },
    {
      "cell_type": "code",
      "metadata": {
        "id": "KdEj7SePSVJu",
        "colab_type": "code",
        "colab": {}
      },
      "source": [
        "#features selection using f_classif\n",
        "\n",
        "f_classif_selected = selectF_classif.get_support()\n",
        "f_classif_selected_features = [ f for i,f in enumerate(x.columns) if f_classif_selected[i]]\n",
        "print('F_classif selected {} features {}.'.format(f_classif_selected.sum(),f_classif_selected_features))"
      ],
      "execution_count": 0,
      "outputs": []
    },
    {
      "cell_type": "code",
      "metadata": {
        "id": "wz2yzKcQSrVO",
        "colab_type": "code",
        "colab": {}
      },
      "source": [
        "#common features\n",
        "\n",
        "selected = chi2_selected & f_classif_selected\n",
        "print('Chi2 & F_classif selected {} features'.format(selected.sum()))\n",
        "features = [ f for f,s in zip(x.columns, selected) if s]\n",
        "print (features)"
      ],
      "execution_count": 0,
      "outputs": []
    },
    {
      "cell_type": "code",
      "metadata": {
        "id": "uNZ3REjpSywV",
        "colab_type": "code",
        "colab": {}
      },
      "source": [
        "#selecting the final features and splitting the data\n",
        "\n",
        "x_feature=x[features]\n",
        "\n",
        "\n",
        "x_train, x_test, y_train, y_test = train_test_split(x_feature.values, y, random_state=1301, stratify=y, test_size=0.25)\n"
      ],
      "execution_count": 0,
      "outputs": []
    },
    {
      "cell_type": "code",
      "metadata": {
        "id": "uUYGRJFGO4Be",
        "colab_type": "code",
        "colab": {}
      },
      "source": [
        "x_train=pd.DataFrame(x_train,columns=x_feature.columns)\n",
        "x_test=pd.DataFrame(x_test,columns=x_feature.columns)\n",
        "y_train=pd.DataFrame(y_train)\n",
        "y_test=pd.DataFrame(y_test)"
      ],
      "execution_count": 0,
      "outputs": []
    },
    {
      "cell_type": "code",
      "metadata": {
        "id": "Ypblj7m8SAyO",
        "colab_type": "code",
        "outputId": "5b22ba0e-3a5c-497f-f878-a5ad2dff083d",
        "colab": {
          "base_uri": "https://localhost:8080/",
          "height": 261
        }
      },
      "source": [
        "x_train.head()"
      ],
      "execution_count": 0,
      "outputs": [
        {
          "output_type": "execute_result",
          "data": {
            "text/html": [
              "<div>\n",
              "<style scoped>\n",
              "    .dataframe tbody tr th:only-of-type {\n",
              "        vertical-align: middle;\n",
              "    }\n",
              "\n",
              "    .dataframe tbody tr th {\n",
              "        vertical-align: top;\n",
              "    }\n",
              "\n",
              "    .dataframe thead th {\n",
              "        text-align: right;\n",
              "    }\n",
              "</style>\n",
              "<table border=\"1\" class=\"dataframe\">\n",
              "  <thead>\n",
              "    <tr style=\"text-align: right;\">\n",
              "      <th></th>\n",
              "      <th>Alumni_Id</th>\n",
              "      <th>Age</th>\n",
              "      <th>Gender.M</th>\n",
              "      <th>Local</th>\n",
              "      <th>Pref.Class.Year</th>\n",
              "      <th>Ethnic.Desc</th>\n",
              "      <th>Ethnic.DescAmerican.Indian.Alaska.Native</th>\n",
              "      <th>Ethnic.DescAsian</th>\n",
              "      <th>Ethnic.DescBlack</th>\n",
              "      <th>Ethnic.DescRace.and.Ethnicity.Unknown</th>\n",
              "      <th>Ethnic.DescTwo.or.More.Races</th>\n",
              "      <th>Record.Type.DescFaculty.Staff</th>\n",
              "      <th>Record.Type.DescParent</th>\n",
              "      <th>Record.Type.DescPast.Faculty.Staff</th>\n",
              "      <th>Record.Type.DescPast.Parent</th>\n",
              "      <th>Affiliated</th>\n",
              "      <th>Affil.Code.DescAA.Alumni.Ambassadors</th>\n",
              "      <th>Affil.Code.DescAA.Sparky.License.Plate</th>\n",
              "      <th>Affil.Code.DescAA.Starbucks.CAP</th>\n",
              "      <th>Affil.Code.DescAA.SunDevils..Advocacy.Network</th>\n",
              "      <th>Affil.Code.DescAA.US.Military.Veteran</th>\n",
              "      <th>Affil.Code.DescFlinn.Brown.Civic.Leadership.Academy</th>\n",
              "      <th>Affil.Code.DescOther</th>\n",
              "      <th>MemberCurrent.Member</th>\n",
              "      <th>Member.LevelGold</th>\n",
              "      <th>Activity.Participation.DescNo.Show</th>\n",
              "      <th>Activity.Participation.DescRegistered</th>\n",
              "      <th>User.Group.DescASU.Enterprise.Marketing.Hub</th>\n",
              "      <th>User.Group.DescCollege...Sandra.Day.O.Connor.College.of.Law</th>\n",
              "      <th>User.Group.DescFDN.IRM</th>\n",
              "      <th>User.Group.DescFDN.PCEP</th>\n",
              "      <th>User.Group.DescZ..Foundation</th>\n",
              "      <th>CoursePerf</th>\n",
              "      <th>NUM_UNDERGRAD_DEGREES</th>\n",
              "      <th>NUM_GRAD_DEGREES</th>\n",
              "      <th>NUM_LAW_DEGREES</th>\n",
              "      <th>ACADCAREERLENGTH</th>\n",
              "      <th>TOTALSTUDENTWORKERHRS</th>\n",
              "      <th>AVGSTUDENTWORKERHRSDAILY</th>\n",
              "      <th>NUMDAYSWORKED</th>\n",
              "      <th>...</th>\n",
              "      <th>Athletics.NumClicks</th>\n",
              "      <th>Athletics.AllUnsubs</th>\n",
              "      <th>Athletics.AnyUnsubs</th>\n",
              "      <th>Foundation.NumSent</th>\n",
              "      <th>Foundation.NumOpens</th>\n",
              "      <th>Foundation.NumClicks</th>\n",
              "      <th>Hub.NumSent</th>\n",
              "      <th>Hub.NumOpens</th>\n",
              "      <th>Hub.NumClicks</th>\n",
              "      <th>Alumni.PrctOpen</th>\n",
              "      <th>Alumni.PrctClicks</th>\n",
              "      <th>Alumni.PrctClicksAll</th>\n",
              "      <th>ASUNow.PrctOpen</th>\n",
              "      <th>ASUNow.PrctClicks</th>\n",
              "      <th>ASUNow.PrctClicksAll</th>\n",
              "      <th>Athletics.PrctOpen</th>\n",
              "      <th>Athletics.PrctClicks</th>\n",
              "      <th>Athletics.PrctClicksAll</th>\n",
              "      <th>Foundation.PrctOpen</th>\n",
              "      <th>Foundation.PrctClicks</th>\n",
              "      <th>Foundation.PrctClicksAll</th>\n",
              "      <th>Hub.PrctOpen</th>\n",
              "      <th>Hub.PrctClicks</th>\n",
              "      <th>Hub.PrctClicksAll</th>\n",
              "      <th>OpenRate</th>\n",
              "      <th>ClickRate</th>\n",
              "      <th>ClickAllRate</th>\n",
              "      <th>Segment_Disconnected</th>\n",
              "      <th>Segment_Lifelong Learner</th>\n",
              "      <th>Segment_Self-actualizer</th>\n",
              "      <th>Segment_Socially Involved</th>\n",
              "      <th>SecondSegment_Lifelong Learner</th>\n",
              "      <th>SecondSegment_Self-actualizer</th>\n",
              "      <th>SecondSegment_Socially Involved</th>\n",
              "      <th>AFFINITY_RATING_Athletically Involved</th>\n",
              "      <th>AFFINITY_RATING_Disconnected</th>\n",
              "      <th>AFFINITY_RATING_Lifelong Learner</th>\n",
              "      <th>AFFINITY_RATING_Self Actualizer</th>\n",
              "      <th>PCA1</th>\n",
              "      <th>PCA2</th>\n",
              "    </tr>\n",
              "  </thead>\n",
              "  <tbody>\n",
              "    <tr>\n",
              "      <th>0</th>\n",
              "      <td>9906.0</td>\n",
              "      <td>67.0</td>\n",
              "      <td>1.0</td>\n",
              "      <td>1.0</td>\n",
              "      <td>1979.0</td>\n",
              "      <td>0.0</td>\n",
              "      <td>0.0</td>\n",
              "      <td>0.0</td>\n",
              "      <td>0.0</td>\n",
              "      <td>0.0</td>\n",
              "      <td>0.0</td>\n",
              "      <td>0.0</td>\n",
              "      <td>0.0</td>\n",
              "      <td>0.0</td>\n",
              "      <td>0.0</td>\n",
              "      <td>0.0</td>\n",
              "      <td>0.0</td>\n",
              "      <td>0.0</td>\n",
              "      <td>0.0</td>\n",
              "      <td>0.0</td>\n",
              "      <td>0.0</td>\n",
              "      <td>0.0</td>\n",
              "      <td>0.0</td>\n",
              "      <td>0.0</td>\n",
              "      <td>0.0</td>\n",
              "      <td>0.0</td>\n",
              "      <td>0.0</td>\n",
              "      <td>0.0</td>\n",
              "      <td>0.0</td>\n",
              "      <td>0.0</td>\n",
              "      <td>0.0</td>\n",
              "      <td>0.0</td>\n",
              "      <td>0.267892</td>\n",
              "      <td>0.852021</td>\n",
              "      <td>0.286917</td>\n",
              "      <td>0.017796</td>\n",
              "      <td>1604.900945</td>\n",
              "      <td>38.767917</td>\n",
              "      <td>0.247718</td>\n",
              "      <td>8.952351</td>\n",
              "      <td>...</td>\n",
              "      <td>0.0</td>\n",
              "      <td>0.0</td>\n",
              "      <td>0.0</td>\n",
              "      <td>0.0</td>\n",
              "      <td>0.0</td>\n",
              "      <td>0.0</td>\n",
              "      <td>0.0</td>\n",
              "      <td>0.0</td>\n",
              "      <td>0.0</td>\n",
              "      <td>0.000000</td>\n",
              "      <td>0.000000</td>\n",
              "      <td>0.000000</td>\n",
              "      <td>0.0</td>\n",
              "      <td>0.0</td>\n",
              "      <td>0.0</td>\n",
              "      <td>0.00</td>\n",
              "      <td>0.0</td>\n",
              "      <td>0.0</td>\n",
              "      <td>0.000000</td>\n",
              "      <td>0.0</td>\n",
              "      <td>0.0</td>\n",
              "      <td>0.000000</td>\n",
              "      <td>0.00</td>\n",
              "      <td>0.0</td>\n",
              "      <td>0.000000</td>\n",
              "      <td>0.00000</td>\n",
              "      <td>0.000000</td>\n",
              "      <td>1.0</td>\n",
              "      <td>0.0</td>\n",
              "      <td>0.0</td>\n",
              "      <td>0.0</td>\n",
              "      <td>1.0</td>\n",
              "      <td>0.0</td>\n",
              "      <td>0.0</td>\n",
              "      <td>0.0</td>\n",
              "      <td>0.0</td>\n",
              "      <td>0.0</td>\n",
              "      <td>0.0</td>\n",
              "      <td>0.000341</td>\n",
              "      <td>-0.006924</td>\n",
              "    </tr>\n",
              "    <tr>\n",
              "      <th>1</th>\n",
              "      <td>39594.0</td>\n",
              "      <td>85.0</td>\n",
              "      <td>1.0</td>\n",
              "      <td>1.0</td>\n",
              "      <td>1959.0</td>\n",
              "      <td>1.0</td>\n",
              "      <td>0.0</td>\n",
              "      <td>0.0</td>\n",
              "      <td>0.0</td>\n",
              "      <td>0.0</td>\n",
              "      <td>0.0</td>\n",
              "      <td>0.0</td>\n",
              "      <td>0.0</td>\n",
              "      <td>0.0</td>\n",
              "      <td>0.0</td>\n",
              "      <td>0.0</td>\n",
              "      <td>0.0</td>\n",
              "      <td>0.0</td>\n",
              "      <td>0.0</td>\n",
              "      <td>0.0</td>\n",
              "      <td>0.0</td>\n",
              "      <td>0.0</td>\n",
              "      <td>0.0</td>\n",
              "      <td>1.0</td>\n",
              "      <td>0.0</td>\n",
              "      <td>0.0</td>\n",
              "      <td>0.0</td>\n",
              "      <td>0.0</td>\n",
              "      <td>0.0</td>\n",
              "      <td>1.0</td>\n",
              "      <td>0.0</td>\n",
              "      <td>0.0</td>\n",
              "      <td>0.267892</td>\n",
              "      <td>0.852021</td>\n",
              "      <td>0.286917</td>\n",
              "      <td>0.017796</td>\n",
              "      <td>1604.900945</td>\n",
              "      <td>38.767917</td>\n",
              "      <td>0.247718</td>\n",
              "      <td>8.952351</td>\n",
              "      <td>...</td>\n",
              "      <td>0.0</td>\n",
              "      <td>0.0</td>\n",
              "      <td>0.0</td>\n",
              "      <td>20.0</td>\n",
              "      <td>3.0</td>\n",
              "      <td>0.0</td>\n",
              "      <td>7.0</td>\n",
              "      <td>2.0</td>\n",
              "      <td>0.0</td>\n",
              "      <td>0.000000</td>\n",
              "      <td>0.000000</td>\n",
              "      <td>0.000000</td>\n",
              "      <td>0.0</td>\n",
              "      <td>0.0</td>\n",
              "      <td>0.0</td>\n",
              "      <td>0.00</td>\n",
              "      <td>0.0</td>\n",
              "      <td>0.0</td>\n",
              "      <td>0.150000</td>\n",
              "      <td>0.0</td>\n",
              "      <td>0.0</td>\n",
              "      <td>0.285714</td>\n",
              "      <td>0.00</td>\n",
              "      <td>0.0</td>\n",
              "      <td>0.087143</td>\n",
              "      <td>0.00000</td>\n",
              "      <td>0.000000</td>\n",
              "      <td>0.0</td>\n",
              "      <td>0.0</td>\n",
              "      <td>0.0</td>\n",
              "      <td>0.0</td>\n",
              "      <td>1.0</td>\n",
              "      <td>0.0</td>\n",
              "      <td>0.0</td>\n",
              "      <td>0.0</td>\n",
              "      <td>0.0</td>\n",
              "      <td>0.0</td>\n",
              "      <td>0.0</td>\n",
              "      <td>-0.000118</td>\n",
              "      <td>0.002763</td>\n",
              "    </tr>\n",
              "    <tr>\n",
              "      <th>2</th>\n",
              "      <td>1282649.0</td>\n",
              "      <td>29.0</td>\n",
              "      <td>0.0</td>\n",
              "      <td>0.0</td>\n",
              "      <td>2016.0</td>\n",
              "      <td>0.0</td>\n",
              "      <td>0.0</td>\n",
              "      <td>0.0</td>\n",
              "      <td>0.0</td>\n",
              "      <td>0.0</td>\n",
              "      <td>0.0</td>\n",
              "      <td>0.0</td>\n",
              "      <td>0.0</td>\n",
              "      <td>0.0</td>\n",
              "      <td>0.0</td>\n",
              "      <td>0.0</td>\n",
              "      <td>0.0</td>\n",
              "      <td>0.0</td>\n",
              "      <td>0.0</td>\n",
              "      <td>0.0</td>\n",
              "      <td>0.0</td>\n",
              "      <td>0.0</td>\n",
              "      <td>0.0</td>\n",
              "      <td>0.0</td>\n",
              "      <td>0.0</td>\n",
              "      <td>0.0</td>\n",
              "      <td>0.0</td>\n",
              "      <td>0.0</td>\n",
              "      <td>0.0</td>\n",
              "      <td>0.0</td>\n",
              "      <td>0.0</td>\n",
              "      <td>0.0</td>\n",
              "      <td>-0.640817</td>\n",
              "      <td>1.000000</td>\n",
              "      <td>1.000000</td>\n",
              "      <td>0.000000</td>\n",
              "      <td>1797.000000</td>\n",
              "      <td>137.250000</td>\n",
              "      <td>3.050000</td>\n",
              "      <td>45.000000</td>\n",
              "      <td>...</td>\n",
              "      <td>0.0</td>\n",
              "      <td>0.0</td>\n",
              "      <td>0.0</td>\n",
              "      <td>23.0</td>\n",
              "      <td>4.0</td>\n",
              "      <td>0.0</td>\n",
              "      <td>5.0</td>\n",
              "      <td>4.0</td>\n",
              "      <td>1.0</td>\n",
              "      <td>0.222222</td>\n",
              "      <td>0.111111</td>\n",
              "      <td>0.024691</td>\n",
              "      <td>0.0</td>\n",
              "      <td>0.0</td>\n",
              "      <td>0.0</td>\n",
              "      <td>0.14</td>\n",
              "      <td>0.0</td>\n",
              "      <td>0.0</td>\n",
              "      <td>0.173913</td>\n",
              "      <td>0.0</td>\n",
              "      <td>0.0</td>\n",
              "      <td>0.800000</td>\n",
              "      <td>0.25</td>\n",
              "      <td>0.2</td>\n",
              "      <td>0.267227</td>\n",
              "      <td>0.05858</td>\n",
              "      <td>0.044938</td>\n",
              "      <td>0.0</td>\n",
              "      <td>0.0</td>\n",
              "      <td>1.0</td>\n",
              "      <td>0.0</td>\n",
              "      <td>1.0</td>\n",
              "      <td>0.0</td>\n",
              "      <td>0.0</td>\n",
              "      <td>0.0</td>\n",
              "      <td>0.0</td>\n",
              "      <td>0.0</td>\n",
              "      <td>0.0</td>\n",
              "      <td>0.001025</td>\n",
              "      <td>-0.007538</td>\n",
              "    </tr>\n",
              "    <tr>\n",
              "      <th>3</th>\n",
              "      <td>902550.0</td>\n",
              "      <td>31.0</td>\n",
              "      <td>1.0</td>\n",
              "      <td>1.0</td>\n",
              "      <td>2010.0</td>\n",
              "      <td>0.0</td>\n",
              "      <td>0.0</td>\n",
              "      <td>0.0</td>\n",
              "      <td>0.0</td>\n",
              "      <td>0.0</td>\n",
              "      <td>0.0</td>\n",
              "      <td>0.0</td>\n",
              "      <td>0.0</td>\n",
              "      <td>0.0</td>\n",
              "      <td>0.0</td>\n",
              "      <td>0.0</td>\n",
              "      <td>0.0</td>\n",
              "      <td>0.0</td>\n",
              "      <td>0.0</td>\n",
              "      <td>0.0</td>\n",
              "      <td>0.0</td>\n",
              "      <td>0.0</td>\n",
              "      <td>0.0</td>\n",
              "      <td>0.0</td>\n",
              "      <td>0.0</td>\n",
              "      <td>0.0</td>\n",
              "      <td>0.0</td>\n",
              "      <td>0.0</td>\n",
              "      <td>0.0</td>\n",
              "      <td>0.0</td>\n",
              "      <td>0.0</td>\n",
              "      <td>0.0</td>\n",
              "      <td>0.922265</td>\n",
              "      <td>3.000000</td>\n",
              "      <td>0.000000</td>\n",
              "      <td>0.000000</td>\n",
              "      <td>1361.000000</td>\n",
              "      <td>0.000000</td>\n",
              "      <td>0.000000</td>\n",
              "      <td>0.000000</td>\n",
              "      <td>...</td>\n",
              "      <td>0.0</td>\n",
              "      <td>0.0</td>\n",
              "      <td>0.0</td>\n",
              "      <td>0.0</td>\n",
              "      <td>0.0</td>\n",
              "      <td>0.0</td>\n",
              "      <td>1.0</td>\n",
              "      <td>0.0</td>\n",
              "      <td>0.0</td>\n",
              "      <td>0.000000</td>\n",
              "      <td>0.000000</td>\n",
              "      <td>0.000000</td>\n",
              "      <td>0.0</td>\n",
              "      <td>0.0</td>\n",
              "      <td>0.0</td>\n",
              "      <td>0.00</td>\n",
              "      <td>0.0</td>\n",
              "      <td>0.0</td>\n",
              "      <td>0.000000</td>\n",
              "      <td>0.0</td>\n",
              "      <td>0.0</td>\n",
              "      <td>0.000000</td>\n",
              "      <td>0.00</td>\n",
              "      <td>0.0</td>\n",
              "      <td>0.000000</td>\n",
              "      <td>0.00000</td>\n",
              "      <td>0.000000</td>\n",
              "      <td>0.0</td>\n",
              "      <td>0.0</td>\n",
              "      <td>0.0</td>\n",
              "      <td>1.0</td>\n",
              "      <td>0.0</td>\n",
              "      <td>1.0</td>\n",
              "      <td>0.0</td>\n",
              "      <td>0.0</td>\n",
              "      <td>0.0</td>\n",
              "      <td>0.0</td>\n",
              "      <td>0.0</td>\n",
              "      <td>-0.011456</td>\n",
              "      <td>-0.007851</td>\n",
              "    </tr>\n",
              "    <tr>\n",
              "      <th>4</th>\n",
              "      <td>143436.0</td>\n",
              "      <td>53.0</td>\n",
              "      <td>1.0</td>\n",
              "      <td>1.0</td>\n",
              "      <td>1991.0</td>\n",
              "      <td>0.0</td>\n",
              "      <td>0.0</td>\n",
              "      <td>0.0</td>\n",
              "      <td>0.0</td>\n",
              "      <td>0.0</td>\n",
              "      <td>0.0</td>\n",
              "      <td>0.0</td>\n",
              "      <td>0.0</td>\n",
              "      <td>0.0</td>\n",
              "      <td>0.0</td>\n",
              "      <td>0.0</td>\n",
              "      <td>0.0</td>\n",
              "      <td>0.0</td>\n",
              "      <td>0.0</td>\n",
              "      <td>0.0</td>\n",
              "      <td>0.0</td>\n",
              "      <td>0.0</td>\n",
              "      <td>0.0</td>\n",
              "      <td>0.0</td>\n",
              "      <td>0.0</td>\n",
              "      <td>0.0</td>\n",
              "      <td>0.0</td>\n",
              "      <td>0.0</td>\n",
              "      <td>0.0</td>\n",
              "      <td>0.0</td>\n",
              "      <td>0.0</td>\n",
              "      <td>0.0</td>\n",
              "      <td>-0.370796</td>\n",
              "      <td>1.000000</td>\n",
              "      <td>0.000000</td>\n",
              "      <td>0.000000</td>\n",
              "      <td>1208.000000</td>\n",
              "      <td>0.000000</td>\n",
              "      <td>0.000000</td>\n",
              "      <td>0.000000</td>\n",
              "      <td>...</td>\n",
              "      <td>0.0</td>\n",
              "      <td>0.0</td>\n",
              "      <td>0.0</td>\n",
              "      <td>0.0</td>\n",
              "      <td>0.0</td>\n",
              "      <td>0.0</td>\n",
              "      <td>0.0</td>\n",
              "      <td>0.0</td>\n",
              "      <td>0.0</td>\n",
              "      <td>0.000000</td>\n",
              "      <td>0.000000</td>\n",
              "      <td>0.000000</td>\n",
              "      <td>0.0</td>\n",
              "      <td>0.0</td>\n",
              "      <td>0.0</td>\n",
              "      <td>0.00</td>\n",
              "      <td>0.0</td>\n",
              "      <td>0.0</td>\n",
              "      <td>0.000000</td>\n",
              "      <td>0.0</td>\n",
              "      <td>0.0</td>\n",
              "      <td>0.000000</td>\n",
              "      <td>0.00</td>\n",
              "      <td>0.0</td>\n",
              "      <td>0.000000</td>\n",
              "      <td>0.00000</td>\n",
              "      <td>0.000000</td>\n",
              "      <td>0.0</td>\n",
              "      <td>0.0</td>\n",
              "      <td>1.0</td>\n",
              "      <td>0.0</td>\n",
              "      <td>1.0</td>\n",
              "      <td>0.0</td>\n",
              "      <td>0.0</td>\n",
              "      <td>0.0</td>\n",
              "      <td>0.0</td>\n",
              "      <td>0.0</td>\n",
              "      <td>0.0</td>\n",
              "      <td>-0.000661</td>\n",
              "      <td>0.012920</td>\n",
              "    </tr>\n",
              "  </tbody>\n",
              "</table>\n",
              "<p>5 rows × 299 columns</p>\n",
              "</div>"
            ],
            "text/plain": [
              "   Alumni_Id   Age  ...      PCA1      PCA2\n",
              "0     9906.0  67.0  ...  0.000341 -0.006924\n",
              "1    39594.0  85.0  ... -0.000118  0.002763\n",
              "2  1282649.0  29.0  ...  0.001025 -0.007538\n",
              "3   902550.0  31.0  ... -0.011456 -0.007851\n",
              "4   143436.0  53.0  ... -0.000661  0.012920\n",
              "\n",
              "[5 rows x 299 columns]"
            ]
          },
          "metadata": {
            "tags": []
          },
          "execution_count": 38
        }
      ]
    },
    {
      "cell_type": "code",
      "metadata": {
        "id": "jURpN6uHkmLe",
        "colab_type": "code",
        "outputId": "ee93b14d-49ca-46c0-859c-598279671aec",
        "colab": {
          "base_uri": "https://localhost:8080/",
          "height": 34
        }
      },
      "source": [
        "ratio=float(np.sum(y_train.values == 0) )/ np.sum(y_train.values==1)\n",
        "print(ratio)"
      ],
      "execution_count": 0,
      "outputs": [
        {
          "output_type": "stream",
          "text": [
            "576.6588785046729\n"
          ],
          "name": "stdout"
        }
      ]
    },
    {
      "cell_type": "code",
      "metadata": {
        "id": "m4EGuCuGliIx",
        "colab_type": "code",
        "outputId": "4cbb3b06-b1f9-43f8-f2a5-e5baa32e6758",
        "colab": {
          "base_uri": "https://localhost:8080/",
          "height": 1000
        }
      },
      "source": [
        "#using XGboost with actual train and test\n",
        "\n",
        "xgb_model = xgb.XGBClassifier(n_estimators=1000,learning_rate=0.1, seed=1301,subsample=1.0,reg_alpha=0.03, gamma=0.3,max_depth=5,is_unbalance=False,num_leaves=4,scale_pos_weight=ratio,colsample_bytree=0.9,n_thread=4)\n",
        "xgb_model.fit(x_train, y_train,early_stopping_rounds=50,eval_metric=\"auc\",eval_set=[(x_train,y_train),(x_test,y_test)])"
      ],
      "execution_count": 0,
      "outputs": [
        {
          "output_type": "stream",
          "text": [
            "/usr/local/lib/python3.6/dist-packages/sklearn/preprocessing/_label.py:235: DataConversionWarning: A column-vector y was passed when a 1d array was expected. Please change the shape of y to (n_samples, ), for example using ravel().\n",
            "  y = column_or_1d(y, warn=True)\n",
            "/usr/local/lib/python3.6/dist-packages/sklearn/preprocessing/_label.py:268: DataConversionWarning: A column-vector y was passed when a 1d array was expected. Please change the shape of y to (n_samples, ), for example using ravel().\n",
            "  y = column_or_1d(y, warn=True)\n"
          ],
          "name": "stderr"
        },
        {
          "output_type": "stream",
          "text": [
            "[0]\tvalidation_0-auc:0.986689\tvalidation_1-auc:0.985943\n",
            "Multiple eval metrics have been passed: 'validation_1-auc' will be used for early stopping.\n",
            "\n",
            "Will train until validation_1-auc hasn't improved in 50 rounds.\n",
            "[1]\tvalidation_0-auc:0.992052\tvalidation_1-auc:0.990256\n",
            "[2]\tvalidation_0-auc:0.991138\tvalidation_1-auc:0.988913\n",
            "[3]\tvalidation_0-auc:0.991138\tvalidation_1-auc:0.988913\n",
            "[4]\tvalidation_0-auc:0.991417\tvalidation_1-auc:0.988991\n",
            "[5]\tvalidation_0-auc:0.996925\tvalidation_1-auc:0.996094\n",
            "[6]\tvalidation_0-auc:0.997468\tvalidation_1-auc:0.996042\n",
            "[7]\tvalidation_0-auc:0.998151\tvalidation_1-auc:0.996985\n",
            "[8]\tvalidation_0-auc:0.998973\tvalidation_1-auc:0.997777\n",
            "[9]\tvalidation_0-auc:0.998972\tvalidation_1-auc:0.997765\n",
            "[10]\tvalidation_0-auc:0.99906\tvalidation_1-auc:0.99787\n",
            "[11]\tvalidation_0-auc:0.999174\tvalidation_1-auc:0.998049\n",
            "[12]\tvalidation_0-auc:0.999423\tvalidation_1-auc:0.998959\n",
            "[13]\tvalidation_0-auc:0.999445\tvalidation_1-auc:0.999093\n",
            "[14]\tvalidation_0-auc:0.999473\tvalidation_1-auc:0.999265\n",
            "[15]\tvalidation_0-auc:0.999473\tvalidation_1-auc:0.999266\n",
            "[16]\tvalidation_0-auc:0.999473\tvalidation_1-auc:0.999267\n",
            "[17]\tvalidation_0-auc:0.999473\tvalidation_1-auc:0.999267\n",
            "[18]\tvalidation_0-auc:0.999552\tvalidation_1-auc:0.999263\n",
            "[19]\tvalidation_0-auc:0.999552\tvalidation_1-auc:0.999264\n",
            "[20]\tvalidation_0-auc:0.999584\tvalidation_1-auc:0.999231\n",
            "[21]\tvalidation_0-auc:0.99959\tvalidation_1-auc:0.999232\n",
            "[22]\tvalidation_0-auc:0.999636\tvalidation_1-auc:0.999366\n",
            "[23]\tvalidation_0-auc:0.999636\tvalidation_1-auc:0.999366\n",
            "[24]\tvalidation_0-auc:0.999636\tvalidation_1-auc:0.999366\n",
            "[25]\tvalidation_0-auc:0.999669\tvalidation_1-auc:0.999461\n",
            "[26]\tvalidation_0-auc:0.999669\tvalidation_1-auc:0.999461\n",
            "[27]\tvalidation_0-auc:0.999688\tvalidation_1-auc:0.999464\n",
            "[28]\tvalidation_0-auc:0.999729\tvalidation_1-auc:0.999547\n",
            "[29]\tvalidation_0-auc:0.999729\tvalidation_1-auc:0.999547\n",
            "[30]\tvalidation_0-auc:0.999862\tvalidation_1-auc:0.999674\n",
            "[31]\tvalidation_0-auc:0.999888\tvalidation_1-auc:0.999604\n",
            "[32]\tvalidation_0-auc:0.999888\tvalidation_1-auc:0.999606\n",
            "[33]\tvalidation_0-auc:0.999922\tvalidation_1-auc:0.999618\n",
            "[34]\tvalidation_0-auc:0.999928\tvalidation_1-auc:0.999616\n",
            "[35]\tvalidation_0-auc:0.999935\tvalidation_1-auc:0.999606\n",
            "[36]\tvalidation_0-auc:0.999938\tvalidation_1-auc:0.99959\n",
            "[37]\tvalidation_0-auc:0.999969\tvalidation_1-auc:0.999606\n",
            "[38]\tvalidation_0-auc:0.999969\tvalidation_1-auc:0.99961\n",
            "[39]\tvalidation_0-auc:0.999982\tvalidation_1-auc:0.999601\n",
            "[40]\tvalidation_0-auc:0.999982\tvalidation_1-auc:0.999598\n",
            "[41]\tvalidation_0-auc:0.999985\tvalidation_1-auc:0.999596\n",
            "[42]\tvalidation_0-auc:0.999985\tvalidation_1-auc:0.999602\n",
            "[43]\tvalidation_0-auc:0.999986\tvalidation_1-auc:0.999623\n",
            "[44]\tvalidation_0-auc:0.999989\tvalidation_1-auc:0.999616\n",
            "[45]\tvalidation_0-auc:0.999989\tvalidation_1-auc:0.999613\n",
            "[46]\tvalidation_0-auc:0.99999\tvalidation_1-auc:0.999582\n",
            "[47]\tvalidation_0-auc:0.999993\tvalidation_1-auc:0.999589\n",
            "[48]\tvalidation_0-auc:0.999994\tvalidation_1-auc:0.999594\n",
            "[49]\tvalidation_0-auc:0.999994\tvalidation_1-auc:0.99958\n",
            "[50]\tvalidation_0-auc:0.999994\tvalidation_1-auc:0.999554\n",
            "[51]\tvalidation_0-auc:0.999995\tvalidation_1-auc:0.999574\n",
            "[52]\tvalidation_0-auc:0.999996\tvalidation_1-auc:0.999577\n",
            "[53]\tvalidation_0-auc:0.999996\tvalidation_1-auc:0.999564\n",
            "[54]\tvalidation_0-auc:0.999997\tvalidation_1-auc:0.999569\n",
            "[55]\tvalidation_0-auc:0.999997\tvalidation_1-auc:0.999568\n",
            "[56]\tvalidation_0-auc:0.999998\tvalidation_1-auc:0.999554\n",
            "[57]\tvalidation_0-auc:0.999998\tvalidation_1-auc:0.999546\n",
            "[58]\tvalidation_0-auc:0.999999\tvalidation_1-auc:0.999547\n",
            "[59]\tvalidation_0-auc:0.999999\tvalidation_1-auc:0.999564\n",
            "[60]\tvalidation_0-auc:0.999999\tvalidation_1-auc:0.999566\n",
            "[61]\tvalidation_0-auc:0.999999\tvalidation_1-auc:0.999566\n",
            "[62]\tvalidation_0-auc:0.999999\tvalidation_1-auc:0.99957\n",
            "[63]\tvalidation_0-auc:0.999999\tvalidation_1-auc:0.999547\n",
            "[64]\tvalidation_0-auc:0.999999\tvalidation_1-auc:0.999556\n",
            "[65]\tvalidation_0-auc:0.999999\tvalidation_1-auc:0.999575\n",
            "[66]\tvalidation_0-auc:0.999999\tvalidation_1-auc:0.999554\n",
            "[67]\tvalidation_0-auc:0.999999\tvalidation_1-auc:0.999568\n",
            "[68]\tvalidation_0-auc:0.999999\tvalidation_1-auc:0.999569\n",
            "[69]\tvalidation_0-auc:0.999999\tvalidation_1-auc:0.999582\n",
            "[70]\tvalidation_0-auc:0.999999\tvalidation_1-auc:0.999553\n",
            "[71]\tvalidation_0-auc:0.999999\tvalidation_1-auc:0.999552\n",
            "[72]\tvalidation_0-auc:1\tvalidation_1-auc:0.999554\n",
            "[73]\tvalidation_0-auc:1\tvalidation_1-auc:0.999543\n",
            "[74]\tvalidation_0-auc:1\tvalidation_1-auc:0.99952\n",
            "[75]\tvalidation_0-auc:1\tvalidation_1-auc:0.999533\n",
            "[76]\tvalidation_0-auc:1\tvalidation_1-auc:0.99954\n",
            "[77]\tvalidation_0-auc:1\tvalidation_1-auc:0.999537\n",
            "[78]\tvalidation_0-auc:1\tvalidation_1-auc:0.999552\n",
            "[79]\tvalidation_0-auc:1\tvalidation_1-auc:0.999551\n",
            "[80]\tvalidation_0-auc:1\tvalidation_1-auc:0.999553\n",
            "Stopping. Best iteration:\n",
            "[30]\tvalidation_0-auc:0.999862\tvalidation_1-auc:0.999674\n",
            "\n"
          ],
          "name": "stdout"
        },
        {
          "output_type": "execute_result",
          "data": {
            "text/plain": [
              "XGBClassifier(base_score=0.5, booster='gbtree', colsample_bylevel=1,\n",
              "              colsample_bynode=1, colsample_bytree=0.9, gamma=0.3,\n",
              "              is_unbalance=False, learning_rate=0.1, max_delta_step=0,\n",
              "              max_depth=5, min_child_weight=1, missing=None, n_estimators=1000,\n",
              "              n_jobs=1, n_thread=4, nthread=None, num_leaves=4,\n",
              "              objective='binary:logistic', random_state=0, reg_alpha=0.03,\n",
              "              reg_lambda=1, scale_pos_weight=576.6588785046729, seed=1301,\n",
              "              silent=None, subsample=1.0, verbosity=1)"
            ]
          },
          "metadata": {
            "tags": []
          },
          "execution_count": 41
        }
      ]
    },
    {
      "cell_type": "code",
      "metadata": {
        "id": "8EJcPDVJ-447",
        "colab_type": "code",
        "outputId": "c1fdcb18-19c0-4ae1-a604-b3820e154caf",
        "colab": {
          "base_uri": "https://localhost:8080/",
          "height": 34
        }
      },
      "source": [
        "print('Overall AUC:', roc_auc_score(y_test, xgb_model.predict_proba(x_test, ntree_limit=xgb_model.best_iteration)[:,1]))"
      ],
      "execution_count": 0,
      "outputs": [
        {
          "output_type": "stream",
          "text": [
            "Overall AUC: 0.9995474402913892\n"
          ],
          "name": "stdout"
        }
      ]
    },
    {
      "cell_type": "code",
      "metadata": {
        "id": "WTdzOmHnmV1Y",
        "colab_type": "code",
        "outputId": "04e78656-04e0-4124-c176-129d9d96e5f6",
        "colab": {
          "base_uri": "https://localhost:8080/",
          "height": 210
        }
      },
      "source": [
        "y_pred_train=pd.DataFrame(xgb_model.predict(x_train),columns=[\"TARGET\"])\n",
        "\n",
        "y_pred_train.TARGET.value_counts()\n",
        "\n",
        "print(classification_report(y_train,y_pred_train))\n",
        "print(confusion_matrix(y_train,y_pred_train))\n"
      ],
      "execution_count": 0,
      "outputs": [
        {
          "output_type": "stream",
          "text": [
            "              precision    recall  f1-score   support\n",
            "\n",
            "         0.0       1.00      1.00      1.00    370215\n",
            "         1.0       0.75      0.98      0.85       642\n",
            "\n",
            "    accuracy                           1.00    370857\n",
            "   macro avg       0.88      0.99      0.93    370857\n",
            "weighted avg       1.00      1.00      1.00    370857\n",
            "\n",
            "[[370008    207]\n",
            " [    10    632]]\n"
          ],
          "name": "stdout"
        }
      ]
    },
    {
      "cell_type": "code",
      "metadata": {
        "id": "C0vI3zPpnz_p",
        "colab_type": "code",
        "outputId": "5f27fec2-ec25-4e32-aca7-9c62e9bef0e4",
        "colab": {
          "base_uri": "https://localhost:8080/",
          "height": 210
        }
      },
      "source": [
        "y_pred = xgb_model.predict(x_test,ntree_limit=xgb_model.best_iteration)\n",
        "\n",
        "print(confusion_matrix(y_test, y_pred))\n",
        "print(classification_report(y_test,y_pred))\n"
      ],
      "execution_count": 0,
      "outputs": [
        {
          "output_type": "stream",
          "text": [
            "[[123327     78]\n",
            " [     6    208]]\n",
            "              precision    recall  f1-score   support\n",
            "\n",
            "         0.0       1.00      1.00      1.00    123405\n",
            "         1.0       0.73      0.97      0.83       214\n",
            "\n",
            "    accuracy                           1.00    123619\n",
            "   macro avg       0.86      0.99      0.92    123619\n",
            "weighted avg       1.00      1.00      1.00    123619\n",
            "\n"
          ],
          "name": "stdout"
        }
      ]
    },
    {
      "cell_type": "code",
      "metadata": {
        "id": "_-70oCd2AxeY",
        "colab_type": "code",
        "outputId": "0161b049-470f-458d-ba71-51238d51ba46",
        "colab": {
          "base_uri": "https://localhost:8080/",
          "height": 34
        }
      },
      "source": [
        "auc = roc_auc_score(y_test, xgb_model.predict(x_test))\n",
        "print(\"Performance : \", auc)"
      ],
      "execution_count": 0,
      "outputs": [
        {
          "output_type": "stream",
          "text": [
            "Performance :  0.9903219662330591\n"
          ],
          "name": "stdout"
        }
      ]
    },
    {
      "cell_type": "code",
      "metadata": {
        "id": "zLh16by6nwP_",
        "colab_type": "code",
        "colab": {}
      },
      "source": [
        "visualizer = ROCAUC(xgb_model)\n",
        "\n",
        "visualizer.fit(x_train, y_train)        # Fit the training data to the visualizer\n",
        "visualizer.score(x_test, y_test)        # Evaluate the model on the test data\n",
        "visualizer.show()  "
      ],
      "execution_count": 0,
      "outputs": []
    },
    {
      "cell_type": "code",
      "metadata": {
        "id": "taXsQl50AsPz",
        "colab_type": "code",
        "colab": {}
      },
      "source": [
        "fig, ax = plt.subplots(figsize=(10, 10))\n",
        "xgb.plot_tree(xgb_model, num_trees=4, ax=ax,feature_names=x.columns)\n",
        "plt.show()"
      ],
      "execution_count": 0,
      "outputs": []
    },
    {
      "cell_type": "code",
      "metadata": {
        "id": "_xzhJtGZu_z9",
        "colab_type": "code",
        "outputId": "c63aed47-dcd9-494b-8251-fbff0ccffea7",
        "colab": {
          "base_uri": "https://localhost:8080/",
          "height": 1000
        }
      },
      "source": [
        "xgb.plot_importance(xgb_model)\n",
        "plt.rcParams['figure.figsize'] = [15, 22]\n",
        "plt.show()\n",
        "\n",
        "importances = xgb_model.feature_importances_\n",
        "std = np.std([tree.feature_importances_ for tree in xgb_model.estimators_],\n",
        "             axis=0)\n",
        "indices = np.argsort(importances)\n",
        "\n",
        "# Plot the feature importances of the forest\n",
        "plt.figure()\n",
        "plt.title(\"Feature importances\")\n",
        "plt.barh(range(X.shape[1]), importances[indices],\n",
        "       color=\"r\", xerr=std[indices], align=\"center\",fontzise=20)\n",
        "# If you want to define your own labels,\n",
        "# change indices to a list of labels on the following line.\n",
        "plt.yticks(range(X.shape[1]), indices,fontzise=30)\n",
        "plt.ylim([-1, X.shape[1]])\n",
        "plt.show()"
      ],
      "execution_count": 0,
      "outputs": [
        {
          "output_type": "display_data",
          "data": {
            "image/png": "[encoded data removed]",
            "text/plain": [
              "<Figure size 360x1800 with 1 Axes>"
            ]
          },
          "metadata": {
            "tags": []
          }
        },
        {
          "output_type": "error",
          "ename": "AttributeError",
          "evalue": "ignored",
          "traceback": [
            "\u001b[0;31m---------------------------------------------------------------------------\u001b[0m",
            "\u001b[0;31mAttributeError\u001b[0m                            Traceback (most recent call last)",
            "\u001b[0;32m<ipython-input-56-88453141f98b>\u001b[0m in \u001b[0;36m<module>\u001b[0;34m()\u001b[0m\n\u001b[1;32m      4\u001b[0m \u001b[0;34m\u001b[0m\u001b[0m\n\u001b[1;32m      5\u001b[0m \u001b[0mimportances\u001b[0m \u001b[0;34m=\u001b[0m \u001b[0mxgb_model\u001b[0m\u001b[0;34m.\u001b[0m\u001b[0mfeature_importances_\u001b[0m\u001b[0;34m\u001b[0m\u001b[0;34m\u001b[0m\u001b[0m\n\u001b[0;32m----> 6\u001b[0;31m std = np.std([tree.feature_importances_ for tree in xgb_model.estimators_],\n\u001b[0m\u001b[1;32m      7\u001b[0m              axis=0)\n\u001b[1;32m      8\u001b[0m \u001b[0mindices\u001b[0m \u001b[0;34m=\u001b[0m \u001b[0mnp\u001b[0m\u001b[0;34m.\u001b[0m\u001b[0margsort\u001b[0m\u001b[0;34m(\u001b[0m\u001b[0mimportances\u001b[0m\u001b[0;34m)\u001b[0m\u001b[0;34m\u001b[0m\u001b[0;34m\u001b[0m\u001b[0m\n",
            "\u001b[0;31mAttributeError\u001b[0m: 'XGBClassifier' object has no attribute 'estimators_'"
          ]
        }
      ]
    },
    {
      "cell_type": "code",
      "metadata": {
        "id": "souzTp2PiY8z",
        "colab_type": "code",
        "colab": {}
      },
      "source": [
        "#using XGboost with Random Under sampling\n",
        "rus = RandomUnderSampler(return_indices=True,ratio=0.25)\n",
        "x_rus, y_rus, id_rus = rus.fit_sample(x_train, y_train)\n",
        "\n",
        "print('Removed indexes:', id_rus)\n"
      ],
      "execution_count": 0,
      "outputs": []
    },
    {
      "cell_type": "code",
      "metadata": {
        "id": "x7f476mh9vWg",
        "colab_type": "code",
        "colab": {}
      },
      "source": [
        "print(len(y_rus[y_rus==0]))\n",
        "print(len(y_rus[y_rus==1]))"
      ],
      "execution_count": 0,
      "outputs": []
    },
    {
      "cell_type": "code",
      "metadata": {
        "colab_type": "code",
        "id": "8xJnaCJbWjo2",
        "colab": {}
      },
      "source": [
        "#using XGboost \n",
        "\n",
        "xgb_model = xgb.XGBClassifier(n_estimators=1000,learning_rate=0.1, seed=1301,subsample=1.0,reg_alpha=0.03, gamma=0.3,max_depth=5,is_unbalance=False,num_leaves=31,scale_pos_weight=4,colsample_bytree=0.5,n_thread=4)\n",
        "xgb_model.fit(x_rus, y_rus,early_stopping_rounds=50,eval_metric=\"auc\",eval_set=[(x_rus,y_rus),(x_test,y_test)])\n",
        "\n"
      ],
      "execution_count": 0,
      "outputs": []
    },
    {
      "cell_type": "code",
      "metadata": {
        "colab_type": "code",
        "outputId": "744f994e-0fb3-40ec-f868-2f967fb239b5",
        "id": "e06VQYoFWjo5",
        "colab": {
          "base_uri": "https://localhost:8080/",
          "height": 34
        }
      },
      "source": [
        "print('Overall AUC:', roc_auc_score(y_test, xgb_model.predict_proba(x_test, ntree_limit=xgb_model.best_iteration)[:,1]))"
      ],
      "execution_count": 0,
      "outputs": [
        {
          "output_type": "stream",
          "text": [
            "Overall AUC: 0.999416517378573\n"
          ],
          "name": "stdout"
        }
      ]
    },
    {
      "cell_type": "code",
      "metadata": {
        "colab_type": "code",
        "outputId": "990c8405-eec3-4586-c472-53d0da751838",
        "id": "DpaMSgiQWjo-",
        "colab": {
          "base_uri": "https://localhost:8080/",
          "height": 210
        }
      },
      "source": [
        "y_pred_train=pd.DataFrame(xgb_model.predict(x_rus),columns=[\"TARGET\"])\n",
        "\n",
        "y_pred_train.TARGET.value_counts()\n",
        "\n",
        "print(classification_report(y_rus,y_pred_train))\n",
        "print(confusion_matrix(y_rus,y_pred_train))\n"
      ],
      "execution_count": 0,
      "outputs": [
        {
          "output_type": "stream",
          "text": [
            "              precision    recall  f1-score   support\n",
            "\n",
            "         0.0       1.00      1.00      1.00      2568\n",
            "         1.0       1.00      1.00      1.00       642\n",
            "\n",
            "    accuracy                           1.00      3210\n",
            "   macro avg       1.00      1.00      1.00      3210\n",
            "weighted avg       1.00      1.00      1.00      3210\n",
            "\n",
            "[[2568    0]\n",
            " [   0  642]]\n"
          ],
          "name": "stdout"
        }
      ]
    },
    {
      "cell_type": "code",
      "metadata": {
        "colab_type": "code",
        "outputId": "a7cee0fb-d138-46b7-b425-d6e71e78d3ad",
        "id": "zqjCdmWXWjpA",
        "colab": {
          "base_uri": "https://localhost:8080/",
          "height": 210
        }
      },
      "source": [
        "y_pred = xgb_model.predict(x_test,ntree_limit=xgb_model.best_iteration)\n",
        "\n",
        "print(confusion_matrix(y_test, y_pred))\n",
        "print(classification_report(y_test,y_pred))\n"
      ],
      "execution_count": 0,
      "outputs": [
        {
          "output_type": "stream",
          "text": [
            "[[123213    192]\n",
            " [     3    211]]\n",
            "              precision    recall  f1-score   support\n",
            "\n",
            "         0.0       1.00      1.00      1.00    123405\n",
            "         1.0       0.52      0.99      0.68       214\n",
            "\n",
            "    accuracy                           1.00    123619\n",
            "   macro avg       0.76      0.99      0.84    123619\n",
            "weighted avg       1.00      1.00      1.00    123619\n",
            "\n"
          ],
          "name": "stdout"
        }
      ]
    },
    {
      "cell_type": "code",
      "metadata": {
        "colab_type": "code",
        "outputId": "481327d9-ddc4-453f-b3fd-43994e5fe422",
        "id": "_OAyjTfxWjpC",
        "colab": {
          "base_uri": "https://localhost:8080/",
          "height": 34
        }
      },
      "source": [
        "auc = roc_auc_score(y_test, xgb_model.predict(x_test))\n",
        "print(\"Performance : \", auc)"
      ],
      "execution_count": 0,
      "outputs": [
        {
          "output_type": "stream",
          "text": [
            "Performance :  0.9922248829645719\n"
          ],
          "name": "stdout"
        }
      ]
    },
    {
      "cell_type": "code",
      "metadata": {
        "id": "hiREksNE8nWm",
        "colab_type": "code",
        "outputId": "a2441762-0a1b-4dba-e78b-6760c98edf77",
        "colab": {
          "base_uri": "https://localhost:8080/",
          "height": 210
        }
      },
      "source": [
        "y_pred_fullset = xgb_model.predict(x_feature.values,ntree_limit=xgb_model.best_iteration)\n",
        "\n",
        "print(confusion_matrix(y, y_pred_fullset))\n",
        "print(classification_report(y,y_pred_fullset))\n"
      ],
      "execution_count": 0,
      "outputs": [
        {
          "output_type": "stream",
          "text": [
            "[[492843    777]\n",
            " [     3    853]]\n",
            "              precision    recall  f1-score   support\n",
            "\n",
            "         0.0       1.00      1.00      1.00    493620\n",
            "         1.0       0.52      1.00      0.69       856\n",
            "\n",
            "    accuracy                           1.00    494476\n",
            "   macro avg       0.76      1.00      0.84    494476\n",
            "weighted avg       1.00      1.00      1.00    494476\n",
            "\n"
          ],
          "name": "stdout"
        }
      ]
    },
    {
      "cell_type": "code",
      "metadata": {
        "id": "sQRl7Ghml_Kv",
        "colab_type": "code",
        "colab": {}
      },
      "source": [
        "y_pred_proba = xgb_model.predict_proba(x_feature.values,ntree_limit=xgb_model.best_iteration)\n",
        "\n"
      ],
      "execution_count": 0,
      "outputs": []
    },
    {
      "cell_type": "code",
      "metadata": {
        "id": "bQJ-LUKEuppC",
        "colab_type": "code",
        "colab": {}
      },
      "source": [
        "#prediction file with score\n",
        "\n",
        "pred=pd.DataFrame(y_pred_proba,columns=[\"TARGET_0\",\"TARGET_1\"])"
      ],
      "execution_count": 0,
      "outputs": []
    },
    {
      "cell_type": "code",
      "metadata": {
        "id": "ppxwg8UYDDU5",
        "colab_type": "code",
        "colab": {}
      },
      "source": [
        "#prediction file\n",
        "\n",
        "pred=pd.DataFrame(y_pred_fullset,columns=[\"TARGET\"])\n",
        "\n",
        "pd.concat([x['Alumni_Id'],pred['TARGET']],axis=1).to_csv('/gdrive/My Drive/KAEMH/newyear_newyou/EmailList_predictions.csv', index = None)"
      ],
      "execution_count": 0,
      "outputs": []
    },
    {
      "cell_type": "code",
      "metadata": {
        "id": "fmmKLguaDDbQ",
        "colab_type": "code",
        "colab": {}
      },
      "source": [
        "#prediction file with score\n",
        "\n",
        "pred=pd.DataFrame(y_pred_proba,columns=[\"TARGET_0\",\"TARGET_1\"])\n",
        "\n",
        "pd.concat([x['Alumni_Id'],pred[\"TARGET_0\"],pred[\"TARGET_1\"]],axis=1).to_csv('/gdrive/My Drive/KAEMH/newyear_newyou/EmailList_score.csv', index = None)"
      ],
      "execution_count": 0,
      "outputs": []
    },
    {
      "cell_type": "code",
      "metadata": {
        "id": "yU7QclO4QSfL",
        "colab_type": "code",
        "outputId": "ab9807bb-90c9-4ead-edce-65b338c30fa5",
        "colab": {
          "base_uri": "https://localhost:8080/",
          "height": 35
        }
      },
      "source": [
        "email_list=pd.read_csv(r'/gdrive/My Drive/KAEMH/newyear_newyou/EmailList_score.csv',index_col=0)\n",
        "email_list.head()\n",
        "email_list.shape"
      ],
      "execution_count": 0,
      "outputs": [
        {
          "output_type": "execute_result",
          "data": {
            "text/plain": [
              "(494476, 2)"
            ]
          },
          "metadata": {
            "tags": []
          },
          "execution_count": 28
        }
      ]
    },
    {
      "cell_type": "code",
      "metadata": {
        "id": "cYjZiNkeTJaA",
        "colab_type": "code",
        "colab": {}
      },
      "source": [
        "#Read the datafile\n",
        "testfile =r'/gdrive/My Drive/KAEMH/newyear_newyou/Predictionset.csv'\n",
        "test_data=pd.read_csv(testfile,sep=',',index_col=0)"
      ],
      "execution_count": 0,
      "outputs": []
    },
    {
      "cell_type": "code",
      "metadata": {
        "id": "gXK_1CpATdGm",
        "colab_type": "code",
        "outputId": "27e101d6-a7d2-4a68-d8d3-0fd85efb717a",
        "colab": {
          "base_uri": "https://localhost:8080/",
          "height": 35
        }
      },
      "source": [
        "filtered_df=test_data[['Alumni_Id','Pref.Class.Year','Segment']]\n",
        "filtered_df.head()\n",
        "print(filtered_df.shape)\n",
        "filtered_df_dropped=filtered_df.drop_duplicates()"
      ],
      "execution_count": 0,
      "outputs": [
        {
          "output_type": "stream",
          "text": [
            "(494476, 3)\n"
          ],
          "name": "stdout"
        }
      ]
    },
    {
      "cell_type": "code",
      "metadata": {
        "id": "oQM_AML5QihJ",
        "colab_type": "code",
        "outputId": "7a16eb27-989c-4f69-d58f-505f9842ce21",
        "colab": {
          "base_uri": "https://localhost:8080/",
          "height": 141
        }
      },
      "source": [
        "email_updated=pd.merge(filtered_df_dropped,email_list,on='Alumni_Id')\n",
        "print(email_updated.shape)\n",
        "print(email_updated.head())"
      ],
      "execution_count": 0,
      "outputs": [
        {
          "output_type": "stream",
          "text": [
            "(494476, 5)\n",
            "   Alumni_Id  Pref.Class.Year                Segment  TARGET_0  TARGET_1\n",
            "0     7897.0           1958.0      Socially Involved  0.925693  0.074307\n",
            "1     7898.0           1978.0           Disconnected  0.878051  0.121948\n",
            "2     7899.0           1978.0           Disconnected  0.896635  0.103365\n",
            "3     7900.0           1978.0           Disconnected  0.850212  0.149788\n",
            "4     7901.0           1978.0  Athletically Involved  0.902688  0.097312\n"
          ],
          "name": "stdout"
        }
      ]
    },
    {
      "cell_type": "code",
      "metadata": {
        "id": "oBvMJKVWZcr3",
        "colab_type": "code",
        "outputId": "e48efc60-d9ce-4682-b8b3-f0f6022ec2a2",
        "colab": {
          "base_uri": "https://localhost:8080/",
          "height": 469
        }
      },
      "source": [
        "text_dataframe = pd.read_csv('/gdrive/My Drive/KAEMH/newyear_newyou/AA_PROFILE_EXT.txt', sep=\"[\\t]\",encoding='cp1252')\n",
        "text_dataframe.head()"
      ],
      "execution_count": 0,
      "outputs": [
        {
          "output_type": "stream",
          "text": [
            "/usr/local/lib/python3.6/dist-packages/ipykernel_launcher.py:1: ParserWarning: Falling back to the 'python' engine because the 'c' engine does not support regex separators (separators > 1 char and different from '\\s+' are interpreted as regex); you can avoid this warning by specifying engine='python'.\n",
            "  \"\"\"Entry point for launching an IPython kernel.\n"
          ],
          "name": "stderr"
        },
        {
          "output_type": "execute_result",
          "data": {
            "text/html": [
              "<div>\n",
              "<style scoped>\n",
              "    .dataframe tbody tr th:only-of-type {\n",
              "        vertical-align: middle;\n",
              "    }\n",
              "\n",
              "    .dataframe tbody tr th {\n",
              "        vertical-align: top;\n",
              "    }\n",
              "\n",
              "    .dataframe thead th {\n",
              "        text-align: right;\n",
              "    }\n",
              "</style>\n",
              "<table border=\"1\" class=\"dataframe\">\n",
              "  <thead>\n",
              "    <tr style=\"text-align: right;\">\n",
              "      <th></th>\n",
              "      <th>ADVANCE_ID</th>\n",
              "      <th>EMAIL_ADDRESS</th>\n",
              "      <th>GUID_</th>\n",
              "      <th>EID_</th>\n",
              "      <th>HID_</th>\n",
              "      <th>AFFILIATE_ID</th>\n",
              "      <th>FIRST_NAME</th>\n",
              "      <th>LAST_NAME</th>\n",
              "      <th>NICKNAME</th>\n",
              "      <th>PERSONAL_SUFFIX</th>\n",
              "      <th>PROFESSIONAL_SUFFIX</th>\n",
              "      <th>FORMAL_SALUTATION</th>\n",
              "      <th>JOINT_SALUTATION</th>\n",
              "      <th>GENDER</th>\n",
              "      <th>DATE_OF_BIRTH</th>\n",
              "      <th>AGE</th>\n",
              "      <th>ETHNICITY</th>\n",
              "      <th>PRIMARY_RECORD_TYPE</th>\n",
              "      <th>OTHER_RECORD_TYPE</th>\n",
              "      <th>RECORD_STATUS</th>\n",
              "      <th>MAILING_STREET</th>\n",
              "      <th>MAILING_CITY</th>\n",
              "      <th>MAILING_STATE</th>\n",
              "      <th>MAILING_ZIP</th>\n",
              "      <th>MAILING_COUNTY</th>\n",
              "      <th>MAILING_FOREIGN_CITYZIP</th>\n",
              "      <th>MAILING_COUNTRY</th>\n",
              "      <th>MAILING_MSA</th>\n",
              "      <th>MAILING_GEOGRAPHIC_CHAPTER</th>\n",
              "      <th>SPECIAL_HANDLING_CODES</th>\n",
              "      <th>VISA_AS_STUDENT</th>\n",
              "      <th>CITIZENSHIP_AS_STUDENT</th>\n",
              "      <th>LAST_GIFT_DATE</th>\n",
              "      <th>JNT_MAILINGS_IND</th>\n",
              "      <th>PREF_JNT_MAIL_NAME1</th>\n",
              "      <th>PREF_JNT_MAIL_NAME2</th>\n",
              "      <th>JNT_SALUTATION</th>\n",
              "      <th>SPOUSE_ID_NUMBER</th>\n",
              "      <th>SPOUSE_NAME</th>\n",
              "      <th>JNT_GIFTS_IND</th>\n",
              "      <th>ASU_EMPLOYEE</th>\n",
              "      <th>AFFINITY_RATING</th>\n",
              "      <th>GIFT_CLUB_CODE</th>\n",
              "      <th>GIFT_CLUB_STATUS</th>\n",
              "      <th>GIFT_CLUB_END_DATE</th>\n",
              "      <th>CLUB_DESCRIPTION</th>\n",
              "      <th>PLUS_ONE_FNAME</th>\n",
              "      <th>PLUS_ONE_LNAME</th>\n",
              "      <th>GIFT_CLUB_JOINT_IND</th>\n",
              "      <th>GIFT_CLUB_PARTNER_ID</th>\n",
              "    </tr>\n",
              "  </thead>\n",
              "  <tbody>\n",
              "    <tr>\n",
              "      <th>0</th>\n",
              "      <td>612575</td>\n",
              "      <td>nothus69@hotmail.com</td>\n",
              "      <td>537E916B-B0EB-44E8-B94A-FBDD1ED4B44E</td>\n",
              "      <td>003d000002uQ36xAAC</td>\n",
              "      <td>s%2BPhyQqqNx4U5nybIJsFm6fi%2FrxywMCO0HLJfBJffu...</td>\n",
              "      <td>1.000002e+09</td>\n",
              "      <td>Mark</td>\n",
              "      <td>Crowe</td>\n",
              "      <td>NaN</td>\n",
              "      <td>NaN</td>\n",
              "      <td>NaN</td>\n",
              "      <td>Mr. Crowe</td>\n",
              "      <td>NaN</td>\n",
              "      <td>Male</td>\n",
              "      <td>1962-08-22 00:00:00</td>\n",
              "      <td>57.0</td>\n",
              "      <td>White</td>\n",
              "      <td>Alumnus/a, Non-Degreed</td>\n",
              "      <td>Alumnus/a, Non-Degreed</td>\n",
              "      <td>Active</td>\n",
              "      <td>505 West Baseline Road Apt 1166</td>\n",
              "      <td>Tempe</td>\n",
              "      <td>AZ</td>\n",
              "      <td>85283-1192</td>\n",
              "      <td>Maricopa</td>\n",
              "      <td>NaN</td>\n",
              "      <td>United States</td>\n",
              "      <td>Phoenix-Mesa, AZ</td>\n",
              "      <td>NaN</td>\n",
              "      <td>NaN</td>\n",
              "      <td>NaN</td>\n",
              "      <td>United States</td>\n",
              "      <td>NaN</td>\n",
              "      <td>N</td>\n",
              "      <td></td>\n",
              "      <td></td>\n",
              "      <td></td>\n",
              "      <td></td>\n",
              "      <td></td>\n",
              "      <td>N</td>\n",
              "      <td>FALSE</td>\n",
              "      <td>None</td>\n",
              "      <td>None</td>\n",
              "      <td>None</td>\n",
              "      <td>None</td>\n",
              "      <td>None</td>\n",
              "      <td>None</td>\n",
              "      <td>None</td>\n",
              "      <td>None</td>\n",
              "      <td>NaN</td>\n",
              "    </tr>\n",
              "    <tr>\n",
              "      <th>1</th>\n",
              "      <td>860028</td>\n",
              "      <td>alanbuyok@gmail.com</td>\n",
              "      <td>CBE0A747-FCB9-4C9E-81A4-5CE7043AEF18</td>\n",
              "      <td>003d000001iHCUSAA4</td>\n",
              "      <td>7Hb572D5XClyHqQ4KKijoYEcLx1w%2F8DwYMad4SJymhrJ...</td>\n",
              "      <td>1.000868e+09</td>\n",
              "      <td>Alan</td>\n",
              "      <td>Buyok</td>\n",
              "      <td>NaN</td>\n",
              "      <td>NaN</td>\n",
              "      <td>NaN</td>\n",
              "      <td>Mr. Buyok</td>\n",
              "      <td>NaN</td>\n",
              "      <td>Male</td>\n",
              "      <td>1987-08-26 00:00:00</td>\n",
              "      <td>32.0</td>\n",
              "      <td>Hispanic</td>\n",
              "      <td>Alumnus/a, Non-Degreed</td>\n",
              "      <td>Alumnus/a, Non-Degreed</td>\n",
              "      <td>Active</td>\n",
              "      <td>3702 North Carlton Avenue</td>\n",
              "      <td>Farmington</td>\n",
              "      <td>NM</td>\n",
              "      <td>87401-2075</td>\n",
              "      <td>San Juan</td>\n",
              "      <td>NaN</td>\n",
              "      <td>United States</td>\n",
              "      <td>NaN</td>\n",
              "      <td>AA Club New Mexico</td>\n",
              "      <td>NaN</td>\n",
              "      <td>NaN</td>\n",
              "      <td>United States</td>\n",
              "      <td>NaN</td>\n",
              "      <td>N</td>\n",
              "      <td></td>\n",
              "      <td></td>\n",
              "      <td></td>\n",
              "      <td></td>\n",
              "      <td></td>\n",
              "      <td>N</td>\n",
              "      <td>FALSE</td>\n",
              "      <td>None</td>\n",
              "      <td>None</td>\n",
              "      <td>None</td>\n",
              "      <td>None</td>\n",
              "      <td>None</td>\n",
              "      <td>None</td>\n",
              "      <td>None</td>\n",
              "      <td>None</td>\n",
              "      <td>NaN</td>\n",
              "    </tr>\n",
              "    <tr>\n",
              "      <th>2</th>\n",
              "      <td>515073</td>\n",
              "      <td>armmorales@yahoo.com</td>\n",
              "      <td>4369132F-6AA4-435E-A6A2-3D89DC50E47A</td>\n",
              "      <td>003d000001iGtDhAAK</td>\n",
              "      <td>QxfbR29Qy23KgfgI1omm7E3sA43AnX8BsiJldf9QlbXCcP...</td>\n",
              "      <td>1.000600e+09</td>\n",
              "      <td>Edmund</td>\n",
              "      <td>Morales</td>\n",
              "      <td>NaN</td>\n",
              "      <td>NaN</td>\n",
              "      <td>NaN</td>\n",
              "      <td>Mr. Morales</td>\n",
              "      <td>NaN</td>\n",
              "      <td>Male</td>\n",
              "      <td>1983-03-04 00:00:00</td>\n",
              "      <td>36.0</td>\n",
              "      <td>Hispanic</td>\n",
              "      <td>Alumnus/a, Degreed</td>\n",
              "      <td>Alumnus/a, Degreed</td>\n",
              "      <td>Active</td>\n",
              "      <td>210 East La Vista Drive</td>\n",
              "      <td>Goodyear</td>\n",
              "      <td>AZ</td>\n",
              "      <td>85338-1222</td>\n",
              "      <td>Maricopa</td>\n",
              "      <td>NaN</td>\n",
              "      <td>United States</td>\n",
              "      <td>Phoenix-Mesa, AZ</td>\n",
              "      <td>NaN</td>\n",
              "      <td>Don't List in Online Dir</td>\n",
              "      <td>NaN</td>\n",
              "      <td>United States</td>\n",
              "      <td>NaN</td>\n",
              "      <td>N</td>\n",
              "      <td></td>\n",
              "      <td></td>\n",
              "      <td></td>\n",
              "      <td></td>\n",
              "      <td></td>\n",
              "      <td>N</td>\n",
              "      <td>FALSE</td>\n",
              "      <td>Athletically Involved</td>\n",
              "      <td>None</td>\n",
              "      <td>None</td>\n",
              "      <td>None</td>\n",
              "      <td>None</td>\n",
              "      <td>None</td>\n",
              "      <td>None</td>\n",
              "      <td>None</td>\n",
              "      <td>NaN</td>\n",
              "    </tr>\n",
              "    <tr>\n",
              "      <th>3</th>\n",
              "      <td>791268</td>\n",
              "      <td>aliciacampos69@hotmail.com</td>\n",
              "      <td>28FDF0C0-D46C-4E25-9313-6F4D79B4BD3B</td>\n",
              "      <td>003d000001iH9nrAAC</td>\n",
              "      <td>wG7zs1tTzhiOpt1gxph3CBBRWxMJySGb2k%2FwcKmtl%2B...</td>\n",
              "      <td>1.000849e+09</td>\n",
              "      <td>Alicia</td>\n",
              "      <td>Campos</td>\n",
              "      <td>NaN</td>\n",
              "      <td>NaN</td>\n",
              "      <td>NaN</td>\n",
              "      <td>Ms. Campos</td>\n",
              "      <td>NaN</td>\n",
              "      <td>Female</td>\n",
              "      <td>1962-06-14 00:00:00</td>\n",
              "      <td>57.0</td>\n",
              "      <td>Hispanic</td>\n",
              "      <td>Alumnus/a, Degreed</td>\n",
              "      <td>Alumnus/a, Degreed</td>\n",
              "      <td>Active</td>\n",
              "      <td>5452 East 37th Place</td>\n",
              "      <td>Yuma</td>\n",
              "      <td>AZ</td>\n",
              "      <td>85365-6732</td>\n",
              "      <td>Yuma</td>\n",
              "      <td>NaN</td>\n",
              "      <td>United States</td>\n",
              "      <td>Yuma, AZ</td>\n",
              "      <td>AA Chap Yuma</td>\n",
              "      <td>NaN</td>\n",
              "      <td>NaN</td>\n",
              "      <td>United States</td>\n",
              "      <td>2014-10-28 00:00:00</td>\n",
              "      <td>N</td>\n",
              "      <td></td>\n",
              "      <td></td>\n",
              "      <td></td>\n",
              "      <td></td>\n",
              "      <td></td>\n",
              "      <td>N</td>\n",
              "      <td>FALSE</td>\n",
              "      <td>Lifelong Learner</td>\n",
              "      <td>None</td>\n",
              "      <td>None</td>\n",
              "      <td>None</td>\n",
              "      <td>None</td>\n",
              "      <td>None</td>\n",
              "      <td>None</td>\n",
              "      <td>None</td>\n",
              "      <td>NaN</td>\n",
              "    </tr>\n",
              "    <tr>\n",
              "      <th>4</th>\n",
              "      <td>921013</td>\n",
              "      <td>margarita.hathway@asu.edu</td>\n",
              "      <td>73F1152F-D7E8-4E86-ACAE-E7645AC7268E</td>\n",
              "      <td>003d000001iHKS6AAO</td>\n",
              "      <td>kMzTa9k0E9%2BfqRe4xYfi3UuDfhQEoj1hPGJ6ZwkvvNgU...</td>\n",
              "      <td>1.000953e+09</td>\n",
              "      <td>Margarita</td>\n",
              "      <td>Hathway</td>\n",
              "      <td>NaN</td>\n",
              "      <td>NaN</td>\n",
              "      <td>NaN</td>\n",
              "      <td>Ms. Hathway</td>\n",
              "      <td>NaN</td>\n",
              "      <td>Female</td>\n",
              "      <td>1985-10-12 00:00:00</td>\n",
              "      <td>33.0</td>\n",
              "      <td>Asian</td>\n",
              "      <td>Alumnus/a, Degreed</td>\n",
              "      <td>Alumnus/a, Degreed</td>\n",
              "      <td>Active</td>\n",
              "      <td>249 West 9th Street</td>\n",
              "      <td>Tempe</td>\n",
              "      <td>AZ</td>\n",
              "      <td>85281-5611</td>\n",
              "      <td>Maricopa</td>\n",
              "      <td>NaN</td>\n",
              "      <td>United States</td>\n",
              "      <td>Phoenix-Mesa, AZ</td>\n",
              "      <td>NaN</td>\n",
              "      <td>NaN</td>\n",
              "      <td>NaN</td>\n",
              "      <td>United States</td>\n",
              "      <td>NaN</td>\n",
              "      <td>N</td>\n",
              "      <td></td>\n",
              "      <td></td>\n",
              "      <td></td>\n",
              "      <td></td>\n",
              "      <td></td>\n",
              "      <td>N</td>\n",
              "      <td>FALSE</td>\n",
              "      <td>Self Actualizer</td>\n",
              "      <td>None</td>\n",
              "      <td>None</td>\n",
              "      <td>None</td>\n",
              "      <td>None</td>\n",
              "      <td>None</td>\n",
              "      <td>None</td>\n",
              "      <td>None</td>\n",
              "      <td>NaN</td>\n",
              "    </tr>\n",
              "  </tbody>\n",
              "</table>\n",
              "</div>"
            ],
            "text/plain": [
              "   ADVANCE_ID  ... GIFT_CLUB_PARTNER_ID\n",
              "0      612575  ...                  NaN\n",
              "1      860028  ...                  NaN\n",
              "2      515073  ...                  NaN\n",
              "3      791268  ...                  NaN\n",
              "4      921013  ...                  NaN\n",
              "\n",
              "[5 rows x 50 columns]"
            ]
          },
          "metadata": {
            "tags": []
          },
          "execution_count": 58
        }
      ]
    },
    {
      "cell_type": "code",
      "metadata": {
        "id": "iu6e37uRZlP4",
        "colab_type": "code",
        "outputId": "297bf507-c9ff-46b9-c362-cc760301d305",
        "colab": {
          "base_uri": "https://localhost:8080/",
          "height": 141
        }
      },
      "source": [
        "text_dataframe=text_dataframe[['ADVANCE_ID','FIRST_NAME','LAST_NAME','EMAIL_ADDRESS','MAILING_STATE']]\n",
        "\n",
        "text_dataframe.rename(columns = {'ADVANCE_ID':'Alumni_Id'}, inplace = True) \n",
        "print(text_dataframe.head())\n",
        "print(text_dataframe.shape)"
      ],
      "execution_count": 0,
      "outputs": [
        {
          "output_type": "stream",
          "text": [
            "   Alumni_Id FIRST_NAME LAST_NAME               EMAIL_ADDRESS MAILING_STATE\n",
            "0     612575       Mark     Crowe        nothus69@hotmail.com            AZ\n",
            "1     860028       Alan     Buyok         alanbuyok@gmail.com            NM\n",
            "2     515073     Edmund   Morales        armmorales@yahoo.com            AZ\n",
            "3     791268     Alicia    Campos  aliciacampos69@hotmail.com            AZ\n",
            "4     921013  Margarita   Hathway   margarita.hathway@asu.edu            AZ\n",
            "(636048, 5)\n"
          ],
          "name": "stdout"
        }
      ]
    },
    {
      "cell_type": "code",
      "metadata": {
        "id": "k9XVrvEnaKSa",
        "colab_type": "code",
        "outputId": "9836df91-d822-4019-e5ac-677679e39f22",
        "colab": {
          "base_uri": "https://localhost:8080/",
          "height": 159
        }
      },
      "source": [
        "CPE_EMAIL_LIST= pd.merge(text_dataframe,email_updated,on='Alumni_Id',how='right')\n",
        "CPE_EMAIL_LIST.shape\n",
        "print(CPE_EMAIL_LIST.head())"
      ],
      "execution_count": 0,
      "outputs": [
        {
          "output_type": "stream",
          "text": [
            "   Alumni_Id FIRST_NAME LAST_NAME  ...                Segment  TARGET_0  TARGET_1\n",
            "0     515073     Edmund   Morales  ...  Athletically Involved  0.935554  0.064445\n",
            "1     791268     Alicia    Campos  ...       Lifelong Learner  0.488961  0.511039\n",
            "2     921013  Margarita   Hathway  ...        Self-actualizer  0.942038  0.057962\n",
            "3     239932   Jennifer     Smith  ...      Socially Involved  0.879123  0.120877\n",
            "4     233807    Michael  Urbanski  ...      Socially Involved  0.834766  0.165234\n",
            "\n",
            "[5 rows x 9 columns]\n"
          ],
          "name": "stdout"
        }
      ]
    },
    {
      "cell_type": "code",
      "metadata": {
        "id": "3rz39ovwb43V",
        "colab_type": "code",
        "outputId": "94008d48-9dbb-4873-acc4-0fb42e89769e",
        "colab": {
          "base_uri": "https://localhost:8080/",
          "height": 212
        }
      },
      "source": [
        "print(CPE_EMAIL_LIST.shape)\n",
        "CPE_EMAIL_LIST.isnull().sum()"
      ],
      "execution_count": 0,
      "outputs": [
        {
          "output_type": "stream",
          "text": [
            "(494476, 9)\n"
          ],
          "name": "stdout"
        },
        {
          "output_type": "execute_result",
          "data": {
            "text/plain": [
              "Alumni_Id               0\n",
              "FIRST_NAME         133683\n",
              "LAST_NAME          133683\n",
              "EMAIL_ADDRESS      133683\n",
              "MAILING_STATE      149918\n",
              "Pref.Class.Year         0\n",
              "Segment                 0\n",
              "TARGET_0                0\n",
              "TARGET_1                0\n",
              "dtype: int64"
            ]
          },
          "metadata": {
            "tags": []
          },
          "execution_count": 74
        }
      ]
    },
    {
      "cell_type": "code",
      "metadata": {
        "id": "nSQBcLJ0ccW1",
        "colab_type": "code",
        "colab": {}
      },
      "source": [
        "CPE_EMAIL_LIST.to_csv('/gdrive/My Drive/KAEMH/newyear_newyou/CPE_Email_List.csv',index=None)"
      ],
      "execution_count": 0,
      "outputs": []
    },
    {
      "cell_type": "code",
      "metadata": {
        "id": "-AqGAWL2tMux",
        "colab_type": "code",
        "outputId": "fc6344c1-a014-4bff-b7d9-e8d5a45b2e7e",
        "colab": {
          "base_uri": "https://localhost:8080/",
          "height": 52
        }
      },
      "source": [
        "#Read the datafile\n",
        "testfile =r'/gdrive/My Drive/KAEMH/newyear_newyou/Predictionset_totalenrolls.csv'\n",
        "test_data=pd.read_csv(testfile,sep=',',index_col=0)"
      ],
      "execution_count": 0,
      "outputs": [
        {
          "output_type": "stream",
          "text": [
            "/usr/local/lib/python3.6/dist-packages/IPython/core/interactiveshell.py:2718: DtypeWarning: Columns (673) have mixed types. Specify dtype option on import or set low_memory=False.\n",
            "  interactivity=interactivity, compiler=compiler, result=result)\n"
          ],
          "name": "stderr"
        }
      ]
    },
    {
      "cell_type": "code",
      "metadata": {
        "id": "3nQ-Z67Nt_QD",
        "colab_type": "code",
        "outputId": "cf8f82c9-4613-436f-d3b9-b8a96d9974cf",
        "colab": {
          "base_uri": "https://localhost:8080/",
          "height": 34
        }
      },
      "source": [
        "test_data.duplicated().sum()"
      ],
      "execution_count": 0,
      "outputs": [
        {
          "output_type": "execute_result",
          "data": {
            "text/plain": [
              "393"
            ]
          },
          "metadata": {
            "tags": []
          },
          "execution_count": 33
        }
      ]
    },
    {
      "cell_type": "code",
      "metadata": {
        "id": "1F3K1kVDuCcT",
        "colab_type": "code",
        "outputId": "21029ae3-1311-4cfd-a1bf-5d16dea75c67",
        "colab": {
          "base_uri": "https://localhost:8080/",
          "height": 52
        }
      },
      "source": [
        "test_data['Segment'].unique()"
      ],
      "execution_count": 0,
      "outputs": [
        {
          "output_type": "execute_result",
          "data": {
            "text/plain": [
              "array(['Socially Involved', 'Disconnected', 'Athletically Involved',\n",
              "       'Self-actualizer', 'Lifelong Learner'], dtype=object)"
            ]
          },
          "metadata": {
            "tags": []
          },
          "execution_count": 34
        }
      ]
    },
    {
      "cell_type": "code",
      "metadata": {
        "id": "ot4bJE9buExb",
        "colab_type": "code",
        "outputId": "44a5960a-f77b-4009-c790-93015b0d54d4",
        "colab": {
          "base_uri": "https://localhost:8080/",
          "height": 122
        }
      },
      "source": [
        "segment_df=test_data.loc[:,'Segment']\n",
        "print(segment_df.head())"
      ],
      "execution_count": 0,
      "outputs": [
        {
          "output_type": "stream",
          "text": [
            "0        Socially Involved\n",
            "1             Disconnected\n",
            "2             Disconnected\n",
            "3             Disconnected\n",
            "4    Athletically Involved\n",
            "Name: Segment, dtype: object\n"
          ],
          "name": "stdout"
        }
      ]
    },
    {
      "cell_type": "code",
      "metadata": {
        "id": "AFMsDMGuuP_Q",
        "colab_type": "code",
        "outputId": "b3c507b3-6054-4440-a177-73d683a1d097",
        "colab": {
          "base_uri": "https://localhost:8080/",
          "height": 140
        }
      },
      "source": [
        "filtered_df=test_data.loc[:,'Alumni_Id']\n",
        "print(filtered_df.head())\n",
        "print(filtered_df.shape)"
      ],
      "execution_count": 0,
      "outputs": [
        {
          "output_type": "stream",
          "text": [
            "0    7897.0\n",
            "1    7898.0\n",
            "2    7899.0\n",
            "3    7900.0\n",
            "4    7901.0\n",
            "Name: Alumni_Id, dtype: float64\n",
            "(494476,)\n"
          ],
          "name": "stdout"
        }
      ]
    },
    {
      "cell_type": "code",
      "metadata": {
        "id": "8lLNq82quccg",
        "colab_type": "code",
        "outputId": "f5af975e-c20a-4db7-b75a-10fa30afc08f",
        "colab": {
          "base_uri": "https://localhost:8080/",
          "height": 34
        }
      },
      "source": [
        "filtered_df=filtered_df.drop_duplicates()\n",
        "filtered_df.shape"
      ],
      "execution_count": 0,
      "outputs": [
        {
          "output_type": "execute_result",
          "data": {
            "text/plain": [
              "(494083,)"
            ]
          },
          "metadata": {
            "tags": []
          },
          "execution_count": 38
        }
      ]
    },
    {
      "cell_type": "code",
      "metadata": {
        "id": "5fXbAmxDugwA",
        "colab_type": "code",
        "outputId": "a92823f5-c993-49db-c96f-ecf8374e01ec",
        "colab": {
          "base_uri": "https://localhost:8080/",
          "height": 140
        }
      },
      "source": [
        "CPE_email=pd.concat([filtered_df,pred],axis=1,sort=False)\n",
        "print(CPE_email.shape)\n",
        "print(CPE_email.head())\n",
        "CPE_email=CPE_email.dropna()"
      ],
      "execution_count": 0,
      "outputs": [
        {
          "output_type": "stream",
          "text": [
            "(494476, 3)\n",
            "   Alumni_Id  TARGET_0  TARGET_1\n",
            "0     7897.0  0.994219  0.005781\n",
            "1     7898.0  0.999421  0.000579\n",
            "2     7899.0  0.999480  0.000520\n",
            "3     7900.0  0.999539  0.000461\n",
            "4     7901.0  0.999528  0.000472\n"
          ],
          "name": "stdout"
        }
      ]
    },
    {
      "cell_type": "code",
      "metadata": {
        "id": "w-mGIVjLvWAy",
        "colab_type": "code",
        "outputId": "7244db71-e501-4b0b-a7e5-fa1dd971bf2d",
        "colab": {
          "base_uri": "https://localhost:8080/",
          "height": 140
        }
      },
      "source": [
        "CPE_segment=pd.concat([CPE_email,segment_df],axis=1,sort=False)\n",
        "print(CPE_segment.shape)\n",
        "print(CPE_segment.head())"
      ],
      "execution_count": 0,
      "outputs": [
        {
          "output_type": "stream",
          "text": [
            "(494476, 4)\n",
            "   Alumni_Id  TARGET_0  TARGET_1                Segment\n",
            "0     7897.0  0.994219  0.005781      Socially Involved\n",
            "1     7898.0  0.999421  0.000579           Disconnected\n",
            "2     7899.0  0.999480  0.000520           Disconnected\n",
            "3     7900.0  0.999539  0.000461           Disconnected\n",
            "4     7901.0  0.999528  0.000472  Athletically Involved\n"
          ],
          "name": "stdout"
        }
      ]
    },
    {
      "cell_type": "code",
      "metadata": {
        "id": "j3bHmYEZvlET",
        "colab_type": "code",
        "colab": {}
      },
      "source": [
        "def select_by_segment(df,segment):\n",
        "  df_segment=df[df['Segment']==segment]\n",
        "  print(df_segment.shape)\n",
        "  df_segment=df_segment.nlargest((int(len(df_segment)*0.15)),['TARGET_1'])\n",
        "  print(df_segment.shape)\n",
        "  return df_segment"
      ],
      "execution_count": 0,
      "outputs": []
    },
    {
      "cell_type": "code",
      "metadata": {
        "id": "-8AtsisUwYJA",
        "colab_type": "code",
        "colab": {}
      },
      "source": [
        "CPE_socially_involved=select_by_segment(CPE_segment,'Socially Involved')\n",
        "CPE_disconnected=select_by_segment(CPE_segment,'Disconnected')\n",
        "CPE_Athletically_Involved=select_by_segment(CPE_segment,'Athletically Involved')\n",
        "CPE_Self_actualizer=select_by_segment(CPE_segment,'Self-actualizer')\n",
        "CPE_Lifelong_Learner=select_by_segment(CPE_segment,'Lifelong Learner')"
      ],
      "execution_count": 0,
      "outputs": []
    },
    {
      "cell_type": "code",
      "metadata": {
        "id": "wtGw1BGhzSId",
        "colab_type": "code",
        "colab": {}
      },
      "source": [
        "text_dataframe = pd.read_csv('/gdrive/My Drive/KAEMH/newyear_newyou/AA_PROFILE_EXT.txt', sep=\"[\\t]\",encoding='cp1252')\n",
        "text_dataframe.head()"
      ],
      "execution_count": 0,
      "outputs": []
    },
    {
      "cell_type": "code",
      "metadata": {
        "id": "tMo76N_ZzSHO",
        "colab_type": "code",
        "outputId": "56ba1083-42d8-44b1-baa6-bed0b86fd13b",
        "colab": {
          "base_uri": "https://localhost:8080/",
          "height": 140
        }
      },
      "source": [
        "text_dataframe=text_dataframe[['ADVANCE_ID','FIRST_NAME','LAST_NAME','EMAIL_ADDRESS','MAILING_STATE']]\n",
        "\n",
        "text_dataframe.rename(columns = {'ADVANCE_ID':'Alumni_Id'}, inplace = True) \n",
        "print(text_dataframe.head())\n",
        "print(text_dataframe.shape)"
      ],
      "execution_count": 0,
      "outputs": [
        {
          "output_type": "stream",
          "text": [
            "   Alumni_Id FIRST_NAME LAST_NAME               EMAIL_ADDRESS MAILING_STATE\n",
            "0     612575       Mark     Crowe        nothus69@hotmail.com            AZ\n",
            "1     860028       Alan     Buyok         alanbuyok@gmail.com            NM\n",
            "2     515073     Edmund   Morales        armmorales@yahoo.com            AZ\n",
            "3     791268     Alicia    Campos  aliciacampos69@hotmail.com            AZ\n",
            "4     921013  Margarita   Hathway   margarita.hathway@asu.edu            AZ\n",
            "(636048, 5)\n"
          ],
          "name": "stdout"
        }
      ]
    },
    {
      "cell_type": "code",
      "metadata": {
        "id": "T3ivKOjbz3MT",
        "colab_type": "code",
        "colab": {}
      },
      "source": [
        "def list_by_segment(df1,df2):\n",
        "  CPE_EMAIL_LIST= pd.merge(df1,df2,on='Alumni_Id',how='right')\n",
        "  CPE_EMAIL_LIST.shape\n",
        "  print(CPE_EMAIL_LIST.head())\n",
        "  print(CPE_EMAIL_LIST.shape)\n",
        "  CPE_EMAIL_LIST.isnull().sum()\n",
        "  return CPE_EMAIL_LIST"
      ],
      "execution_count": 0,
      "outputs": []
    },
    {
      "cell_type": "code",
      "metadata": {
        "id": "WMoALL35zRp-",
        "colab_type": "code",
        "colab": {}
      },
      "source": [
        "CPE_socially_involved=list_by_segment(text_dataframe,CPE_socially_involved)\n",
        "print(\"Socially Involved\")\n",
        "print(CPE_socially_involved.isna().sum())"
      ],
      "execution_count": 0,
      "outputs": []
    },
    {
      "cell_type": "code",
      "metadata": {
        "id": "7ZejHCf_0ean",
        "colab_type": "code",
        "colab": {}
      },
      "source": [
        "CPE_disconnected=list_by_segment(text_dataframe,CPE_disconnected)\n",
        "print(\"OSHER_disconnected\")\n",
        "print(CPE_disconnected.isna().sum())"
      ],
      "execution_count": 0,
      "outputs": []
    },
    {
      "cell_type": "code",
      "metadata": {
        "id": "YYaT2fgO0ekl",
        "colab_type": "code",
        "colab": {}
      },
      "source": [
        "CPE_Athletically_Involved=list_by_segment(text_dataframe,CPE_Athletically_Involved)\n",
        "print(\"OSHER_Athletically_Involved\")\n",
        "print(CPE_Athletically_Involved.isna().sum())"
      ],
      "execution_count": 0,
      "outputs": []
    },
    {
      "cell_type": "code",
      "metadata": {
        "id": "rLDGDG8K0erN",
        "colab_type": "code",
        "colab": {}
      },
      "source": [
        "CPE_Lifelong_Learner=list_by_segment(text_dataframe,CPE_Lifelong_Learner)\n",
        "print(\"OSHER_Lifelong_Learner\")\n",
        "print(CPE_Lifelong_Learner.isna().sum())"
      ],
      "execution_count": 0,
      "outputs": []
    },
    {
      "cell_type": "code",
      "metadata": {
        "id": "Fp3HeM2Q0ewo",
        "colab_type": "code",
        "colab": {}
      },
      "source": [
        "CPE_Self_actualizer=list_by_segment(text_dataframe,CPE_Self_actualizer)\n",
        "print(\"OSHER_Self_actualizer\")\n",
        "print(CPE_Self_actualizer.isna().sum())"
      ],
      "execution_count": 0,
      "outputs": []
    },
    {
      "cell_type": "code",
      "metadata": {
        "id": "LhMm_A7l0oyk",
        "colab_type": "code",
        "colab": {}
      },
      "source": [
        "CPE_socially_involved.to_csv('/gdrive/My Drive/KAEMH/newyear_newyou/CPE_socially_involved.csv',index=None)\n",
        "CPE_disconnected.to_csv('/gdrive/My Drive/KAEMH/newyear_newyou/CPE_disconnected.csv',index=None)\n",
        "CPE_Athletically_Involved.to_csv('/gdrive/My Drive/KAEMH/newyear_newyou/CPE_Athletically_Involved.csv',index=None)\n",
        "CPE_Lifelong_Learner.to_csv('/gdrive/My Drive/KAEMH/newyear_newyou/CPE_Lifelong_Learner.csv',index=None)\n",
        "CPE_Self_actualizer.to_csv('/gdrive/My Drive/KAEMH/newyear_newyou/CPE_Self_actualizer.csv',index=None)"
      ],
      "execution_count": 0,
      "outputs": []
    },
    {
      "cell_type": "code",
      "metadata": {
        "id": "HSYzwlltL90F",
        "colab_type": "code",
        "outputId": "d942aa49-4f15-4f75-fc2f-51d32eb36e29",
        "colab": {
          "base_uri": "https://localhost:8080/",
          "height": 72
        }
      },
      "source": [
        "viz = PrecisionRecallCurve(xgb.XGBClassifier(n_estimators=1000,learning_rate=0.1, seed=1301,subsample=1.0,reg_alpha=0.03, gamma=0.3,max_depth=5,is_unbalance=False,num_leaves=31,scale_pos_weight=4,colsample_bytree=0.5,n_thread=4))\n",
        "viz.fit(x_train,y_train)\n",
        "viz.score(x_test, y_test)\n",
        "viz.show()"
      ],
      "execution_count": 0,
      "outputs": [
        {
          "output_type": "stream",
          "text": [
            "/usr/local/lib/python3.6/dist-packages/sklearn/base.py:197: FutureWarning: From version 0.24, get_params will raise an AttributeError if a parameter cannot be retrieved as an instance attribute. Previously it would return None.\n",
            "  FutureWarning)\n"
          ],
          "name": "stderr"
        }
      ]
    }
  ]
}